{
 "cells": [
  {
   "cell_type": "code",
   "execution_count": 2,
   "id": "initial_id",
   "metadata": {
    "ExecuteTime": {
     "end_time": "2024-04-11T20:39:33.764569Z",
     "start_time": "2024-04-11T20:39:18.739681Z"
    }
   },
   "outputs": [],
   "source": [
    "import pandas as pd\n",
    "import json"
   ]
  },
  {
   "cell_type": "code",
   "execution_count": 3,
   "id": "656755df5883dabe",
   "metadata": {
    "ExecuteTime": {
     "end_time": "2024-04-11T20:39:39.520982Z",
     "start_time": "2024-04-11T20:39:33.766661Z"
    }
   },
   "outputs": [],
   "source": [
    "with open(\"rawData/jobvisionData.json\", \"r\", encoding=\"utf-8\") as fp:\n",
    "    jobPosts = json.loads(fp.read())"
   ]
  },
  {
   "cell_type": "code",
   "execution_count": 4,
   "id": "c493d3279bb04f2e",
   "metadata": {
    "ExecuteTime": {
     "end_time": "2024-04-11T20:39:43.084571Z",
     "start_time": "2024-04-11T20:39:39.522497Z"
    }
   },
   "outputs": [],
   "source": [
    "df = pd.json_normalize(jobPosts)\n",
    "df.drop_duplicates(subset=['id'], inplace=True)"
   ]
  },
  {
   "cell_type": "code",
   "outputs": [
    {
     "data": {
      "text/plain": "       score  itemIndex  searchPositionCoefficient      id   \n0      23.48        -29                   1.000000  692901  \\\n1      22.67        -28                   1.000000  692882   \n2      21.30        -27                   0.420000  664475   \n3      22.49        -26                   1.000000  692632   \n4      20.18        -25                   0.558464  690931   \n...      ...        ...                        ...     ...   \n38305   0.00      38276                   1.000000  664934   \n38306   0.00      38277                   1.000000  663523   \n38307   0.00      38278                   1.000000  663536   \n38308   0.00      38279                   1.000000  652226   \n38309   0.00      38280                   1.000000  649258   \n\n                                       title  isPersian   \n0                               مشاور تحصیلی       True  \\\n1      Senior Fullstack JavaScript Developer      False   \n2                               ادمین تلگرام       True   \n3                              کارشناس اداری       True   \n4              کارشناس ارشد دیجیتال مارکتینگ       True   \n...                                      ...        ...   \n38305              صافکار پی دی آر کار - آقا       True   \n38306                  مدیر فروش و بازاریابی       True   \n38307                  مدیر فروش و بازاریابی       True   \n38308                            کارشناس HSE       True   \n38309    بازاریاب حضوری (هوشمندسازی ساختمان)       True   \n\n                                           jobCategories   \n0      [{'id': 203, 'title': None, 'titleFa': 'فروش و...  \\\n1      [{'id': 30, 'title': None, 'titleFa': 'توسعه ن...   \n2      [{'id': 34, 'title': None, 'titleFa': 'خدمات و...   \n3      [{'id': 28, 'title': None, 'titleFa': 'منابع ا...   \n4      [{'id': 176, 'title': None, 'titleFa': 'دیجیتا...   \n...                                                  ...   \n38305  [{'id': 206, 'title': None, 'titleFa': 'تکنسین...   \n38306  [{'id': 9, 'title': None, 'titleFa': 'فروش و ب...   \n38307  [{'id': 9, 'title': None, 'titleFa': 'فروش و ب...   \n38308  [{'id': 32, 'title': None, 'titleFa': 'بهداشت،...   \n38309  [{'id': 9, 'title': None, 'titleFa': 'فروش و ب...   \n\n                                                benefits   \n0      [{'id': 116, 'title': 'وام', 'titleFa': 'وام',...  \\\n1                                                     []   \n2      [{'id': 117, 'title': 'پاداش', 'titleFa': 'پاد...   \n3      [{'id': 116, 'title': 'وام', 'titleFa': 'وام',...   \n4      [{'id': 116, 'title': 'وام', 'titleFa': 'وام',...   \n...                                                  ...   \n38305                                                 []   \n38306                                                 []   \n38307                                                 []   \n38308  [{'id': 119, 'title': 'محل سکونت سازمانی', 'ti...   \n38309  [{'id': 115, 'title': 'سرویس رفت و برگشت', 'ti...   \n\n                          labels  userJobPostInfo.matchingScore  ...   \n0      [پاره وقت, امکان دورکاری]                              0  ...  \\\n1                [امکان دورکاری]                              0  ...   \n2                [امکان دورکاری]                              0  ...   \n3                             []                              0  ...   \n4                [امکان دورکاری]                              0  ...   \n...                          ...                            ...  ...   \n38305                         []                              0  ...   \n38306                         []                              0  ...   \n38307                         []                              0  ...   \n38308                         []                              0  ...   \n38309                         []                              0  ...   \n\n       expireTime.daysLeftUntil  expireTime.isExpired  expireTime.beautifyFa   \n0                            59                 False                  دیروز  \\\n1                            59                 False                  دیروز   \n2                            20                 False                  دیروز   \n3                            58                 False                  دیروز   \n4                            59                 False                  دیروز   \n...                         ...                   ...                    ...   \n38305                        21                 False                  دیروز   \n38306                        20                 False                  دیروز   \n38307                        20                 False                  دیروز   \n38308                         7                 False                  دیروز   \n38309                         3                 False                  دیروز   \n\n       expireTime.beautifyEn       expireTime.date  location.province   \n0                  Yesterday  2024-05-05T15:29:34Z                NaN  \\\n1                  Yesterday  2024-05-05T10:11:34Z                NaN   \n2                  Yesterday  2024-03-27T12:41:23Z                NaN   \n3                  Yesterday  2024-05-04T16:17:38Z                NaN   \n4                  Yesterday  2024-05-05T12:41:44Z                NaN   \n...                      ...                   ...                ...   \n38305              Yesterday  2024-03-28T14:06:12Z                NaN   \n38306              Yesterday  2024-03-27T08:45:02Z                NaN   \n38307              Yesterday  2024-03-27T08:41:59Z                NaN   \n38308              Yesterday  2024-03-14T10:33:53Z                NaN   \n38309              Yesterday  2024-03-10T12:53:22Z                NaN   \n\n       location.city.province  location.regionGroup  location.region  salary  \n0                         NaN                   NaN              NaN     NaN  \n1                         NaN                   NaN              NaN     NaN  \n2                         NaN                   NaN              NaN     NaN  \n3                         NaN                   NaN              NaN     NaN  \n4                         NaN                   NaN              NaN     NaN  \n...                       ...                   ...              ...     ...  \n38305                     NaN                   NaN              NaN     NaN  \n38306                     NaN                   NaN              NaN     NaN  \n38307                     NaN                   NaN              NaN     NaN  \n38308                     NaN                   NaN              NaN     NaN  \n38309                     NaN                   NaN              NaN     NaN  \n\n[37903 rows x 100 columns]",
      "text/html": "<div>\n<style scoped>\n    .dataframe tbody tr th:only-of-type {\n        vertical-align: middle;\n    }\n\n    .dataframe tbody tr th {\n        vertical-align: top;\n    }\n\n    .dataframe thead th {\n        text-align: right;\n    }\n</style>\n<table border=\"1\" class=\"dataframe\">\n  <thead>\n    <tr style=\"text-align: right;\">\n      <th></th>\n      <th>score</th>\n      <th>itemIndex</th>\n      <th>searchPositionCoefficient</th>\n      <th>id</th>\n      <th>title</th>\n      <th>isPersian</th>\n      <th>jobCategories</th>\n      <th>benefits</th>\n      <th>labels</th>\n      <th>userJobPostInfo.matchingScore</th>\n      <th>...</th>\n      <th>expireTime.daysLeftUntil</th>\n      <th>expireTime.isExpired</th>\n      <th>expireTime.beautifyFa</th>\n      <th>expireTime.beautifyEn</th>\n      <th>expireTime.date</th>\n      <th>location.province</th>\n      <th>location.city.province</th>\n      <th>location.regionGroup</th>\n      <th>location.region</th>\n      <th>salary</th>\n    </tr>\n  </thead>\n  <tbody>\n    <tr>\n      <th>0</th>\n      <td>23.48</td>\n      <td>-29</td>\n      <td>1.000000</td>\n      <td>692901</td>\n      <td>مشاور تحصیلی</td>\n      <td>True</td>\n      <td>[{'id': 203, 'title': None, 'titleFa': 'فروش و...</td>\n      <td>[{'id': 116, 'title': 'وام', 'titleFa': 'وام',...</td>\n      <td>[پاره وقت, امکان دورکاری]</td>\n      <td>0</td>\n      <td>...</td>\n      <td>59</td>\n      <td>False</td>\n      <td>دیروز</td>\n      <td>Yesterday</td>\n      <td>2024-05-05T15:29:34Z</td>\n      <td>NaN</td>\n      <td>NaN</td>\n      <td>NaN</td>\n      <td>NaN</td>\n      <td>NaN</td>\n    </tr>\n    <tr>\n      <th>1</th>\n      <td>22.67</td>\n      <td>-28</td>\n      <td>1.000000</td>\n      <td>692882</td>\n      <td>Senior Fullstack JavaScript Developer</td>\n      <td>False</td>\n      <td>[{'id': 30, 'title': None, 'titleFa': 'توسعه ن...</td>\n      <td>[]</td>\n      <td>[امکان دورکاری]</td>\n      <td>0</td>\n      <td>...</td>\n      <td>59</td>\n      <td>False</td>\n      <td>دیروز</td>\n      <td>Yesterday</td>\n      <td>2024-05-05T10:11:34Z</td>\n      <td>NaN</td>\n      <td>NaN</td>\n      <td>NaN</td>\n      <td>NaN</td>\n      <td>NaN</td>\n    </tr>\n    <tr>\n      <th>2</th>\n      <td>21.30</td>\n      <td>-27</td>\n      <td>0.420000</td>\n      <td>664475</td>\n      <td>ادمین تلگرام</td>\n      <td>True</td>\n      <td>[{'id': 34, 'title': None, 'titleFa': 'خدمات و...</td>\n      <td>[{'id': 117, 'title': 'پاداش', 'titleFa': 'پاد...</td>\n      <td>[امکان دورکاری]</td>\n      <td>0</td>\n      <td>...</td>\n      <td>20</td>\n      <td>False</td>\n      <td>دیروز</td>\n      <td>Yesterday</td>\n      <td>2024-03-27T12:41:23Z</td>\n      <td>NaN</td>\n      <td>NaN</td>\n      <td>NaN</td>\n      <td>NaN</td>\n      <td>NaN</td>\n    </tr>\n    <tr>\n      <th>3</th>\n      <td>22.49</td>\n      <td>-26</td>\n      <td>1.000000</td>\n      <td>692632</td>\n      <td>کارشناس اداری</td>\n      <td>True</td>\n      <td>[{'id': 28, 'title': None, 'titleFa': 'منابع ا...</td>\n      <td>[{'id': 116, 'title': 'وام', 'titleFa': 'وام',...</td>\n      <td>[]</td>\n      <td>0</td>\n      <td>...</td>\n      <td>58</td>\n      <td>False</td>\n      <td>دیروز</td>\n      <td>Yesterday</td>\n      <td>2024-05-04T16:17:38Z</td>\n      <td>NaN</td>\n      <td>NaN</td>\n      <td>NaN</td>\n      <td>NaN</td>\n      <td>NaN</td>\n    </tr>\n    <tr>\n      <th>4</th>\n      <td>20.18</td>\n      <td>-25</td>\n      <td>0.558464</td>\n      <td>690931</td>\n      <td>کارشناس ارشد دیجیتال مارکتینگ</td>\n      <td>True</td>\n      <td>[{'id': 176, 'title': None, 'titleFa': 'دیجیتا...</td>\n      <td>[{'id': 116, 'title': 'وام', 'titleFa': 'وام',...</td>\n      <td>[امکان دورکاری]</td>\n      <td>0</td>\n      <td>...</td>\n      <td>59</td>\n      <td>False</td>\n      <td>دیروز</td>\n      <td>Yesterday</td>\n      <td>2024-05-05T12:41:44Z</td>\n      <td>NaN</td>\n      <td>NaN</td>\n      <td>NaN</td>\n      <td>NaN</td>\n      <td>NaN</td>\n    </tr>\n    <tr>\n      <th>...</th>\n      <td>...</td>\n      <td>...</td>\n      <td>...</td>\n      <td>...</td>\n      <td>...</td>\n      <td>...</td>\n      <td>...</td>\n      <td>...</td>\n      <td>...</td>\n      <td>...</td>\n      <td>...</td>\n      <td>...</td>\n      <td>...</td>\n      <td>...</td>\n      <td>...</td>\n      <td>...</td>\n      <td>...</td>\n      <td>...</td>\n      <td>...</td>\n      <td>...</td>\n      <td>...</td>\n    </tr>\n    <tr>\n      <th>38305</th>\n      <td>0.00</td>\n      <td>38276</td>\n      <td>1.000000</td>\n      <td>664934</td>\n      <td>صافکار پی دی آر کار - آقا</td>\n      <td>True</td>\n      <td>[{'id': 206, 'title': None, 'titleFa': 'تکنسین...</td>\n      <td>[]</td>\n      <td>[]</td>\n      <td>0</td>\n      <td>...</td>\n      <td>21</td>\n      <td>False</td>\n      <td>دیروز</td>\n      <td>Yesterday</td>\n      <td>2024-03-28T14:06:12Z</td>\n      <td>NaN</td>\n      <td>NaN</td>\n      <td>NaN</td>\n      <td>NaN</td>\n      <td>NaN</td>\n    </tr>\n    <tr>\n      <th>38306</th>\n      <td>0.00</td>\n      <td>38277</td>\n      <td>1.000000</td>\n      <td>663523</td>\n      <td>مدیر فروش و بازاریابی</td>\n      <td>True</td>\n      <td>[{'id': 9, 'title': None, 'titleFa': 'فروش و ب...</td>\n      <td>[]</td>\n      <td>[]</td>\n      <td>0</td>\n      <td>...</td>\n      <td>20</td>\n      <td>False</td>\n      <td>دیروز</td>\n      <td>Yesterday</td>\n      <td>2024-03-27T08:45:02Z</td>\n      <td>NaN</td>\n      <td>NaN</td>\n      <td>NaN</td>\n      <td>NaN</td>\n      <td>NaN</td>\n    </tr>\n    <tr>\n      <th>38307</th>\n      <td>0.00</td>\n      <td>38278</td>\n      <td>1.000000</td>\n      <td>663536</td>\n      <td>مدیر فروش و بازاریابی</td>\n      <td>True</td>\n      <td>[{'id': 9, 'title': None, 'titleFa': 'فروش و ب...</td>\n      <td>[]</td>\n      <td>[]</td>\n      <td>0</td>\n      <td>...</td>\n      <td>20</td>\n      <td>False</td>\n      <td>دیروز</td>\n      <td>Yesterday</td>\n      <td>2024-03-27T08:41:59Z</td>\n      <td>NaN</td>\n      <td>NaN</td>\n      <td>NaN</td>\n      <td>NaN</td>\n      <td>NaN</td>\n    </tr>\n    <tr>\n      <th>38308</th>\n      <td>0.00</td>\n      <td>38279</td>\n      <td>1.000000</td>\n      <td>652226</td>\n      <td>کارشناس HSE</td>\n      <td>True</td>\n      <td>[{'id': 32, 'title': None, 'titleFa': 'بهداشت،...</td>\n      <td>[{'id': 119, 'title': 'محل سکونت سازمانی', 'ti...</td>\n      <td>[]</td>\n      <td>0</td>\n      <td>...</td>\n      <td>7</td>\n      <td>False</td>\n      <td>دیروز</td>\n      <td>Yesterday</td>\n      <td>2024-03-14T10:33:53Z</td>\n      <td>NaN</td>\n      <td>NaN</td>\n      <td>NaN</td>\n      <td>NaN</td>\n      <td>NaN</td>\n    </tr>\n    <tr>\n      <th>38309</th>\n      <td>0.00</td>\n      <td>38280</td>\n      <td>1.000000</td>\n      <td>649258</td>\n      <td>بازاریاب حضوری (هوشمندسازی ساختمان)</td>\n      <td>True</td>\n      <td>[{'id': 9, 'title': None, 'titleFa': 'فروش و ب...</td>\n      <td>[{'id': 115, 'title': 'سرویس رفت و برگشت', 'ti...</td>\n      <td>[]</td>\n      <td>0</td>\n      <td>...</td>\n      <td>3</td>\n      <td>False</td>\n      <td>دیروز</td>\n      <td>Yesterday</td>\n      <td>2024-03-10T12:53:22Z</td>\n      <td>NaN</td>\n      <td>NaN</td>\n      <td>NaN</td>\n      <td>NaN</td>\n      <td>NaN</td>\n    </tr>\n  </tbody>\n</table>\n<p>37903 rows × 100 columns</p>\n</div>"
     },
     "execution_count": 5,
     "metadata": {},
     "output_type": "execute_result"
    }
   ],
   "source": [
    "df"
   ],
   "metadata": {
    "collapsed": false,
    "ExecuteTime": {
     "end_time": "2024-04-11T20:39:44.125820Z",
     "start_time": "2024-04-11T20:39:43.089394Z"
    }
   },
   "id": "b1ff85b8714674e9",
   "execution_count": 5
  },
  {
   "cell_type": "code",
   "outputs": [],
   "source": [
    "dfd = df.explode(\"jobCategories\")\n",
    "dfd[\"jobCategory\"] = dfd[\"jobCategories\"].apply(lambda x: x[\"titleFa\"])\n",
    "dfd = pd.get_dummies(dfd, columns=['jobCategory'], prefix='').drop_duplicates(subset=['id'])"
   ],
   "metadata": {
    "collapsed": false,
    "ExecuteTime": {
     "end_time": "2024-04-11T20:39:46.943712Z",
     "start_time": "2024-04-11T20:39:44.125820Z"
    }
   },
   "id": "ce792f72e23834b0",
   "execution_count": 6
  },
  {
   "cell_type": "code",
   "outputs": [],
   "source": [
    "dfs = df.copy()\n",
    "dfs[\"jobCategory\"] = dfs[\"jobCategories\"].apply(lambda x: x[0][\"titleFa\"])"
   ],
   "metadata": {
    "collapsed": false,
    "ExecuteTime": {
     "end_time": "2024-04-11T20:39:47.006210Z",
     "start_time": "2024-04-11T20:39:46.944798Z"
    }
   },
   "id": "13292e95059f0fda",
   "execution_count": 7
  },
  {
   "cell_type": "code",
   "outputs": [],
   "source": [
    "dfs = dfs[dfs[\"location.country.id\"] == 1]"
   ],
   "metadata": {
    "collapsed": false,
    "ExecuteTime": {
     "end_time": "2024-04-11T20:39:47.652336Z",
     "start_time": "2024-04-11T20:39:47.007236Z"
    }
   },
   "id": "c386cc23319c71e4",
   "execution_count": 8
  },
  {
   "cell_type": "code",
   "outputs": [
    {
     "data": {
      "text/plain": "       score  itemIndex  searchPositionCoefficient      id   \n0      23.48        -29                   1.000000  692901  \\\n2      21.30        -27                   0.420000  664475   \n3      22.49        -26                   1.000000  692632   \n4      20.18        -25                   0.558464  690931   \n5      20.16        -24                   0.558464  692533   \n...      ...        ...                        ...     ...   \n38305   0.00      38276                   1.000000  664934   \n38306   0.00      38277                   1.000000  663523   \n38307   0.00      38278                   1.000000  663536   \n38308   0.00      38279                   1.000000  652226   \n38309   0.00      38280                   1.000000  649258   \n\n                                     title  isPersian   \n0                             مشاور تحصیلی       True  \\\n2                             ادمین تلگرام       True   \n3                            کارشناس اداری       True   \n4            کارشناس ارشد دیجیتال مارکتینگ       True   \n5                             کارشناس فروش       True   \n...                                    ...        ...   \n38305            صافکار پی دی آر کار - آقا       True   \n38306                مدیر فروش و بازاریابی       True   \n38307                مدیر فروش و بازاریابی       True   \n38308                          کارشناس HSE       True   \n38309  بازاریاب حضوری (هوشمندسازی ساختمان)       True   \n\n                                           jobCategories   \n0      [{'id': 203, 'title': None, 'titleFa': 'فروش و...  \\\n2      [{'id': 34, 'title': None, 'titleFa': 'خدمات و...   \n3      [{'id': 28, 'title': None, 'titleFa': 'منابع ا...   \n4      [{'id': 176, 'title': None, 'titleFa': 'دیجیتا...   \n5      [{'id': 9, 'title': None, 'titleFa': 'فروش و ب...   \n...                                                  ...   \n38305  [{'id': 206, 'title': None, 'titleFa': 'تکنسین...   \n38306  [{'id': 9, 'title': None, 'titleFa': 'فروش و ب...   \n38307  [{'id': 9, 'title': None, 'titleFa': 'فروش و ب...   \n38308  [{'id': 32, 'title': None, 'titleFa': 'بهداشت،...   \n38309  [{'id': 9, 'title': None, 'titleFa': 'فروش و ب...   \n\n                                                benefits   \n0      [{'id': 116, 'title': 'وام', 'titleFa': 'وام',...  \\\n2      [{'id': 117, 'title': 'پاداش', 'titleFa': 'پاد...   \n3      [{'id': 116, 'title': 'وام', 'titleFa': 'وام',...   \n4      [{'id': 116, 'title': 'وام', 'titleFa': 'وام',...   \n5      [{'id': 116, 'title': 'وام', 'titleFa': 'وام',...   \n...                                                  ...   \n38305                                                 []   \n38306                                                 []   \n38307                                                 []   \n38308  [{'id': 119, 'title': 'محل سکونت سازمانی', 'ti...   \n38309  [{'id': 115, 'title': 'سرویس رفت و برگشت', 'ti...   \n\n                          labels  userJobPostInfo.matchingScore  ...   \n0      [پاره وقت, امکان دورکاری]                              0  ...  \\\n2                [امکان دورکاری]                              0  ...   \n3                             []                              0  ...   \n4                [امکان دورکاری]                              0  ...   \n5                             []                              0  ...   \n...                          ...                            ...  ...   \n38305                         []                              0  ...   \n38306                         []                              0  ...   \n38307                         []                              0  ...   \n38308                         []                              0  ...   \n38309                         []                              0  ...   \n\n       expireTime.isExpired  expireTime.beautifyFa  expireTime.beautifyEn   \n0                     False                  دیروز              Yesterday  \\\n2                     False                  دیروز              Yesterday   \n3                     False                  دیروز              Yesterday   \n4                     False                  دیروز              Yesterday   \n5                     False                  دیروز              Yesterday   \n...                     ...                    ...                    ...   \n38305                 False                  دیروز              Yesterday   \n38306                 False                  دیروز              Yesterday   \n38307                 False                  دیروز              Yesterday   \n38308                 False                  دیروز              Yesterday   \n38309                 False                  دیروز              Yesterday   \n\n            expireTime.date  location.province  location.city.province   \n0      2024-05-05T15:29:34Z                NaN                     NaN  \\\n2      2024-03-27T12:41:23Z                NaN                     NaN   \n3      2024-05-04T16:17:38Z                NaN                     NaN   \n4      2024-05-05T12:41:44Z                NaN                     NaN   \n5      2024-05-04T15:32:07Z                NaN                     NaN   \n...                     ...                ...                     ...   \n38305  2024-03-28T14:06:12Z                NaN                     NaN   \n38306  2024-03-27T08:45:02Z                NaN                     NaN   \n38307  2024-03-27T08:41:59Z                NaN                     NaN   \n38308  2024-03-14T10:33:53Z                NaN                     NaN   \n38309  2024-03-10T12:53:22Z                NaN                     NaN   \n\n       location.regionGroup  location.region  salary   \n0                       NaN              NaN     NaN  \\\n2                       NaN              NaN     NaN   \n3                       NaN              NaN     NaN   \n4                       NaN              NaN     NaN   \n5                       NaN              NaN     NaN   \n...                     ...              ...     ...   \n38305                   NaN              NaN     NaN   \n38306                   NaN              NaN     NaN   \n38307                   NaN              NaN     NaN   \n38308                   NaN              NaN     NaN   \n38309                   NaN              NaN     NaN   \n\n                                             jobCategory  \n0      فروش و بازاریابی - فروشنده / بازاریاب و ویزیتو...  \n2                               خدمات و پشتیبانی مشتریان  \n3                                           منابع انسانی  \n4                                 دیجیتال مارکتینگ و سئو  \n5             فروش و بازاریابی - سطوح کارشناسی و مدیریتی  \n...                                                  ...  \n38305                 تکنسین فنی / تعمیرکار / کارگر ماهر  \n38306         فروش و بازاریابی - سطوح کارشناسی و مدیریتی  \n38307         فروش و بازاریابی - سطوح کارشناسی و مدیریتی  \n38308                    بهداشت، ایمنی و محیط زیست (HSE)  \n38309         فروش و بازاریابی - سطوح کارشناسی و مدیریتی  \n\n[37853 rows x 101 columns]",
      "text/html": "<div>\n<style scoped>\n    .dataframe tbody tr th:only-of-type {\n        vertical-align: middle;\n    }\n\n    .dataframe tbody tr th {\n        vertical-align: top;\n    }\n\n    .dataframe thead th {\n        text-align: right;\n    }\n</style>\n<table border=\"1\" class=\"dataframe\">\n  <thead>\n    <tr style=\"text-align: right;\">\n      <th></th>\n      <th>score</th>\n      <th>itemIndex</th>\n      <th>searchPositionCoefficient</th>\n      <th>id</th>\n      <th>title</th>\n      <th>isPersian</th>\n      <th>jobCategories</th>\n      <th>benefits</th>\n      <th>labels</th>\n      <th>userJobPostInfo.matchingScore</th>\n      <th>...</th>\n      <th>expireTime.isExpired</th>\n      <th>expireTime.beautifyFa</th>\n      <th>expireTime.beautifyEn</th>\n      <th>expireTime.date</th>\n      <th>location.province</th>\n      <th>location.city.province</th>\n      <th>location.regionGroup</th>\n      <th>location.region</th>\n      <th>salary</th>\n      <th>jobCategory</th>\n    </tr>\n  </thead>\n  <tbody>\n    <tr>\n      <th>0</th>\n      <td>23.48</td>\n      <td>-29</td>\n      <td>1.000000</td>\n      <td>692901</td>\n      <td>مشاور تحصیلی</td>\n      <td>True</td>\n      <td>[{'id': 203, 'title': None, 'titleFa': 'فروش و...</td>\n      <td>[{'id': 116, 'title': 'وام', 'titleFa': 'وام',...</td>\n      <td>[پاره وقت, امکان دورکاری]</td>\n      <td>0</td>\n      <td>...</td>\n      <td>False</td>\n      <td>دیروز</td>\n      <td>Yesterday</td>\n      <td>2024-05-05T15:29:34Z</td>\n      <td>NaN</td>\n      <td>NaN</td>\n      <td>NaN</td>\n      <td>NaN</td>\n      <td>NaN</td>\n      <td>فروش و بازاریابی - فروشنده / بازاریاب و ویزیتو...</td>\n    </tr>\n    <tr>\n      <th>2</th>\n      <td>21.30</td>\n      <td>-27</td>\n      <td>0.420000</td>\n      <td>664475</td>\n      <td>ادمین تلگرام</td>\n      <td>True</td>\n      <td>[{'id': 34, 'title': None, 'titleFa': 'خدمات و...</td>\n      <td>[{'id': 117, 'title': 'پاداش', 'titleFa': 'پاد...</td>\n      <td>[امکان دورکاری]</td>\n      <td>0</td>\n      <td>...</td>\n      <td>False</td>\n      <td>دیروز</td>\n      <td>Yesterday</td>\n      <td>2024-03-27T12:41:23Z</td>\n      <td>NaN</td>\n      <td>NaN</td>\n      <td>NaN</td>\n      <td>NaN</td>\n      <td>NaN</td>\n      <td>خدمات و پشتیبانی مشتریان</td>\n    </tr>\n    <tr>\n      <th>3</th>\n      <td>22.49</td>\n      <td>-26</td>\n      <td>1.000000</td>\n      <td>692632</td>\n      <td>کارشناس اداری</td>\n      <td>True</td>\n      <td>[{'id': 28, 'title': None, 'titleFa': 'منابع ا...</td>\n      <td>[{'id': 116, 'title': 'وام', 'titleFa': 'وام',...</td>\n      <td>[]</td>\n      <td>0</td>\n      <td>...</td>\n      <td>False</td>\n      <td>دیروز</td>\n      <td>Yesterday</td>\n      <td>2024-05-04T16:17:38Z</td>\n      <td>NaN</td>\n      <td>NaN</td>\n      <td>NaN</td>\n      <td>NaN</td>\n      <td>NaN</td>\n      <td>منابع انسانی</td>\n    </tr>\n    <tr>\n      <th>4</th>\n      <td>20.18</td>\n      <td>-25</td>\n      <td>0.558464</td>\n      <td>690931</td>\n      <td>کارشناس ارشد دیجیتال مارکتینگ</td>\n      <td>True</td>\n      <td>[{'id': 176, 'title': None, 'titleFa': 'دیجیتا...</td>\n      <td>[{'id': 116, 'title': 'وام', 'titleFa': 'وام',...</td>\n      <td>[امکان دورکاری]</td>\n      <td>0</td>\n      <td>...</td>\n      <td>False</td>\n      <td>دیروز</td>\n      <td>Yesterday</td>\n      <td>2024-05-05T12:41:44Z</td>\n      <td>NaN</td>\n      <td>NaN</td>\n      <td>NaN</td>\n      <td>NaN</td>\n      <td>NaN</td>\n      <td>دیجیتال مارکتینگ و سئو</td>\n    </tr>\n    <tr>\n      <th>5</th>\n      <td>20.16</td>\n      <td>-24</td>\n      <td>0.558464</td>\n      <td>692533</td>\n      <td>کارشناس فروش</td>\n      <td>True</td>\n      <td>[{'id': 9, 'title': None, 'titleFa': 'فروش و ب...</td>\n      <td>[{'id': 116, 'title': 'وام', 'titleFa': 'وام',...</td>\n      <td>[]</td>\n      <td>0</td>\n      <td>...</td>\n      <td>False</td>\n      <td>دیروز</td>\n      <td>Yesterday</td>\n      <td>2024-05-04T15:32:07Z</td>\n      <td>NaN</td>\n      <td>NaN</td>\n      <td>NaN</td>\n      <td>NaN</td>\n      <td>NaN</td>\n      <td>فروش و بازاریابی - سطوح کارشناسی و مدیریتی</td>\n    </tr>\n    <tr>\n      <th>...</th>\n      <td>...</td>\n      <td>...</td>\n      <td>...</td>\n      <td>...</td>\n      <td>...</td>\n      <td>...</td>\n      <td>...</td>\n      <td>...</td>\n      <td>...</td>\n      <td>...</td>\n      <td>...</td>\n      <td>...</td>\n      <td>...</td>\n      <td>...</td>\n      <td>...</td>\n      <td>...</td>\n      <td>...</td>\n      <td>...</td>\n      <td>...</td>\n      <td>...</td>\n      <td>...</td>\n    </tr>\n    <tr>\n      <th>38305</th>\n      <td>0.00</td>\n      <td>38276</td>\n      <td>1.000000</td>\n      <td>664934</td>\n      <td>صافکار پی دی آر کار - آقا</td>\n      <td>True</td>\n      <td>[{'id': 206, 'title': None, 'titleFa': 'تکنسین...</td>\n      <td>[]</td>\n      <td>[]</td>\n      <td>0</td>\n      <td>...</td>\n      <td>False</td>\n      <td>دیروز</td>\n      <td>Yesterday</td>\n      <td>2024-03-28T14:06:12Z</td>\n      <td>NaN</td>\n      <td>NaN</td>\n      <td>NaN</td>\n      <td>NaN</td>\n      <td>NaN</td>\n      <td>تکنسین فنی / تعمیرکار / کارگر ماهر</td>\n    </tr>\n    <tr>\n      <th>38306</th>\n      <td>0.00</td>\n      <td>38277</td>\n      <td>1.000000</td>\n      <td>663523</td>\n      <td>مدیر فروش و بازاریابی</td>\n      <td>True</td>\n      <td>[{'id': 9, 'title': None, 'titleFa': 'فروش و ب...</td>\n      <td>[]</td>\n      <td>[]</td>\n      <td>0</td>\n      <td>...</td>\n      <td>False</td>\n      <td>دیروز</td>\n      <td>Yesterday</td>\n      <td>2024-03-27T08:45:02Z</td>\n      <td>NaN</td>\n      <td>NaN</td>\n      <td>NaN</td>\n      <td>NaN</td>\n      <td>NaN</td>\n      <td>فروش و بازاریابی - سطوح کارشناسی و مدیریتی</td>\n    </tr>\n    <tr>\n      <th>38307</th>\n      <td>0.00</td>\n      <td>38278</td>\n      <td>1.000000</td>\n      <td>663536</td>\n      <td>مدیر فروش و بازاریابی</td>\n      <td>True</td>\n      <td>[{'id': 9, 'title': None, 'titleFa': 'فروش و ب...</td>\n      <td>[]</td>\n      <td>[]</td>\n      <td>0</td>\n      <td>...</td>\n      <td>False</td>\n      <td>دیروز</td>\n      <td>Yesterday</td>\n      <td>2024-03-27T08:41:59Z</td>\n      <td>NaN</td>\n      <td>NaN</td>\n      <td>NaN</td>\n      <td>NaN</td>\n      <td>NaN</td>\n      <td>فروش و بازاریابی - سطوح کارشناسی و مدیریتی</td>\n    </tr>\n    <tr>\n      <th>38308</th>\n      <td>0.00</td>\n      <td>38279</td>\n      <td>1.000000</td>\n      <td>652226</td>\n      <td>کارشناس HSE</td>\n      <td>True</td>\n      <td>[{'id': 32, 'title': None, 'titleFa': 'بهداشت،...</td>\n      <td>[{'id': 119, 'title': 'محل سکونت سازمانی', 'ti...</td>\n      <td>[]</td>\n      <td>0</td>\n      <td>...</td>\n      <td>False</td>\n      <td>دیروز</td>\n      <td>Yesterday</td>\n      <td>2024-03-14T10:33:53Z</td>\n      <td>NaN</td>\n      <td>NaN</td>\n      <td>NaN</td>\n      <td>NaN</td>\n      <td>NaN</td>\n      <td>بهداشت، ایمنی و محیط زیست (HSE)</td>\n    </tr>\n    <tr>\n      <th>38309</th>\n      <td>0.00</td>\n      <td>38280</td>\n      <td>1.000000</td>\n      <td>649258</td>\n      <td>بازاریاب حضوری (هوشمندسازی ساختمان)</td>\n      <td>True</td>\n      <td>[{'id': 9, 'title': None, 'titleFa': 'فروش و ب...</td>\n      <td>[{'id': 115, 'title': 'سرویس رفت و برگشت', 'ti...</td>\n      <td>[]</td>\n      <td>0</td>\n      <td>...</td>\n      <td>False</td>\n      <td>دیروز</td>\n      <td>Yesterday</td>\n      <td>2024-03-10T12:53:22Z</td>\n      <td>NaN</td>\n      <td>NaN</td>\n      <td>NaN</td>\n      <td>NaN</td>\n      <td>NaN</td>\n      <td>فروش و بازاریابی - سطوح کارشناسی و مدیریتی</td>\n    </tr>\n  </tbody>\n</table>\n<p>37853 rows × 101 columns</p>\n</div>"
     },
     "execution_count": 9,
     "metadata": {},
     "output_type": "execute_result"
    }
   ],
   "source": [
    "dfs"
   ],
   "metadata": {
    "collapsed": false,
    "ExecuteTime": {
     "end_time": "2024-04-11T20:39:49.436670Z",
     "start_time": "2024-04-11T20:39:47.653511Z"
    }
   },
   "id": "b68119971741171a",
   "execution_count": 9
  },
  {
   "cell_type": "code",
   "outputs": [],
   "source": [
    "data = dfs[[\"id\", \"title\", \"jobCategory\", \"company.nameFa\", \"industry.title\", \"company.isFamous\", \"location.province.titleFa\", \"location.city.titleFa\", \"location.regionGroup.titleFa\", \"workType.titleFa\", \"seniorityLevel.titleFa\", \"salary.max\", \"salary.min\", \"gender.titleFa\", \"properties.requiredRelatedExperienceYears\", \"properties.isInternship\", \"properties.isRemote\"]].copy()"
   ],
   "metadata": {
    "collapsed": false,
    "ExecuteTime": {
     "end_time": "2024-04-11T20:39:50.422848Z",
     "start_time": "2024-04-11T20:39:49.437712Z"
    }
   },
   "id": "445fdb8d119a8879",
   "execution_count": 10
  },
  {
   "cell_type": "code",
   "outputs": [],
   "source": [
    "data.rename({\n",
    "    \"properties.isInternship\": \"isInternship\",\n",
    "    \"properties.isRemote\": \"isRemote\",\n",
    "    \"properties.requiredRelatedExperienceYears\": \"requiredRelatedExperienceYears\",\n",
    "    \"company.nameFa\": \"company\",\n",
    "    \"company.isFamous\": \"isFamousCompany\",\n",
    "    \"location.province.titleFa\": \"province\",\n",
    "    \"location.city.titleFa\": \"city\",\n",
    "    \"company.regionGroup.titleFa\": \"region\",\n",
    "    \"workType.titleFa\": \"workType\",\n",
    "    \"seniorityLevel.titleFa\": \"seniorityLevel\",\n",
    "    \"salary.max\": \"salaryMax\",\n",
    "    \"salary.min\": \"salaryMin\",\n",
    "    \"industry.title\": \"industry\",\n",
    "    \"gender.titleFa\": \"gender\"\n",
    "}, axis=1, inplace=True)\n"
   ],
   "metadata": {
    "collapsed": false,
    "ExecuteTime": {
     "end_time": "2024-04-11T20:39:50.708619Z",
     "start_time": "2024-04-11T20:39:50.425221Z"
    }
   },
   "id": "5041eb50c772d65e",
   "execution_count": 11
  },
  {
   "cell_type": "code",
   "outputs": [
    {
     "data": {
      "text/plain": "           id                                title   \n0      692901                         مشاور تحصیلی  \\\n2      664475                         ادمین تلگرام   \n3      692632                        کارشناس اداری   \n4      690931        کارشناس ارشد دیجیتال مارکتینگ   \n5      692533                         کارشناس فروش   \n...       ...                                  ...   \n38305  664934            صافکار پی دی آر کار - آقا   \n38306  663523                مدیر فروش و بازاریابی   \n38307  663536                مدیر فروش و بازاریابی   \n38308  652226                          کارشناس HSE   \n38309  649258  بازاریاب حضوری (هوشمندسازی ساختمان)   \n\n                                             jobCategory   \n0      فروش و بازاریابی - فروشنده / بازاریاب و ویزیتو...  \\\n2                               خدمات و پشتیبانی مشتریان   \n3                                           منابع انسانی   \n4                                 دیجیتال مارکتینگ و سئو   \n5             فروش و بازاریابی - سطوح کارشناسی و مدیریتی   \n...                                                  ...   \n38305                 تکنسین فنی / تعمیرکار / کارگر ماهر   \n38306         فروش و بازاریابی - سطوح کارشناسی و مدیریتی   \n38307         فروش و بازاریابی - سطوح کارشناسی و مدیریتی   \n38308                    بهداشت، ایمنی و محیط زیست (HSE)   \n38309         فروش و بازاریابی - سطوح کارشناسی و مدیریتی   \n\n                                     company   \n0                         موسسه کنکوری ستوده  \\\n2          شرکت فناوران دانش هوش مصنوعی هیوا   \n3                          گروه صنعتی ویتانا   \n4                                     ترنسیس   \n5                          تعمیرات ریلی مپنا   \n...                                      ...   \n38305                            آس تک پردیس   \n38306             شرکت آتیه سازان بیمه سامان   \n38307             شرکت آتیه سازان بیمه سامان   \n38308                    شرکت مهندسی فرانیرو   \n38309  فن آوران آریا محور (هایپر صنعت فامکو)   \n\n                                     industry  isFamousCompany   \n0                               آموزش / پژوهش            False  \\\n2      فناوری اطلاعات / نرم افزار و سخت افزار            False   \n3                    کالاهای مصرفی و تند گردش            False   \n4                                       ترجمه            False   \n5                          حمل و نقل / ترابری            False   \n...                                       ...              ...   \n38305        خرده فروشی / مرکز خرید / فروشگاه            False   \n38306                                    بیمه            False   \n38307                                    بیمه            False   \n38308            شرکت های خدماتی / پیمانکاران            False   \n38309                    خدمات مهندسی و تخصصی            False   \n\n             province     city location.regionGroup.titleFa   \n0               تهران    تهران                    شمال غربی  \\\n2               تهران    تهران                    شمال شرقی   \n3               تهران    تهران                         مرکز   \n4               تهران    تهران                         مرکز   \n5               تهران    تهران                         مرکز   \n...               ...      ...                          ...   \n38305     خراسان رضوی     مشهد                          NaN   \n38306           زنجان  خدابنده                          NaN   \n38307  آذربایجان شرقی  عجب شیر                          NaN   \n38308             یزد   اردکان                          NaN   \n38309           تهران    تهران                          غرب   \n\n                   workType seniorityLevel  salaryMax  salaryMin   \n0                  پاره وقت         کارمند       20.0       15.0  \\\n2                  تمام وقت         کارمند       25.0       20.0   \n3                  تمام وقت        کارشناس       20.0       15.0   \n4                  تمام وقت   کارشناس ارشد       20.0       15.0   \n5                  تمام وقت        کارشناس       20.0       15.0   \n...                     ...            ...        ...        ...   \n38305              تمام وقت         کارمند        NaN        NaN   \n38306  تمام وقت یا پاره وقت     مدیر میانی        NaN        NaN   \n38307  تمام وقت یا پاره وقت     مدیر میانی        NaN        NaN   \n38308              تمام وقت        کارشناس        NaN        NaN   \n38309              تمام وقت        کارشناس        NaN        NaN   \n\n             gender  requiredRelatedExperienceYears  isInternship  isRemote  \n0      تفاوتی ندارد                               0         False      True  \n2      تفاوتی ندارد                               3         False      True  \n3      تفاوتی ندارد                               3         False     False  \n4      تفاوتی ندارد                               3         False      True  \n5      تفاوتی ندارد                               3         False     False  \n...             ...                             ...           ...       ...  \n38305       فقط آقا                               1         False     False  \n38306  تفاوتی ندارد                               1         False     False  \n38307  تفاوتی ندارد                               1         False     False  \n38308  تفاوتی ندارد                               3         False     False  \n38309  تفاوتی ندارد                               0         False     False  \n\n[37853 rows x 17 columns]",
      "text/html": "<div>\n<style scoped>\n    .dataframe tbody tr th:only-of-type {\n        vertical-align: middle;\n    }\n\n    .dataframe tbody tr th {\n        vertical-align: top;\n    }\n\n    .dataframe thead th {\n        text-align: right;\n    }\n</style>\n<table border=\"1\" class=\"dataframe\">\n  <thead>\n    <tr style=\"text-align: right;\">\n      <th></th>\n      <th>id</th>\n      <th>title</th>\n      <th>jobCategory</th>\n      <th>company</th>\n      <th>industry</th>\n      <th>isFamousCompany</th>\n      <th>province</th>\n      <th>city</th>\n      <th>location.regionGroup.titleFa</th>\n      <th>workType</th>\n      <th>seniorityLevel</th>\n      <th>salaryMax</th>\n      <th>salaryMin</th>\n      <th>gender</th>\n      <th>requiredRelatedExperienceYears</th>\n      <th>isInternship</th>\n      <th>isRemote</th>\n    </tr>\n  </thead>\n  <tbody>\n    <tr>\n      <th>0</th>\n      <td>692901</td>\n      <td>مشاور تحصیلی</td>\n      <td>فروش و بازاریابی - فروشنده / بازاریاب و ویزیتو...</td>\n      <td>موسسه کنکوری ستوده</td>\n      <td>آموزش / پژوهش</td>\n      <td>False</td>\n      <td>تهران</td>\n      <td>تهران</td>\n      <td>شمال غربی</td>\n      <td>پاره وقت</td>\n      <td>کارمند</td>\n      <td>20.0</td>\n      <td>15.0</td>\n      <td>تفاوتی ندارد</td>\n      <td>0</td>\n      <td>False</td>\n      <td>True</td>\n    </tr>\n    <tr>\n      <th>2</th>\n      <td>664475</td>\n      <td>ادمین تلگرام</td>\n      <td>خدمات و پشتیبانی مشتریان</td>\n      <td>شرکت فناوران دانش هوش مصنوعی هیوا</td>\n      <td>فناوری اطلاعات / نرم افزار و سخت افزار</td>\n      <td>False</td>\n      <td>تهران</td>\n      <td>تهران</td>\n      <td>شمال شرقی</td>\n      <td>تمام وقت</td>\n      <td>کارمند</td>\n      <td>25.0</td>\n      <td>20.0</td>\n      <td>تفاوتی ندارد</td>\n      <td>3</td>\n      <td>False</td>\n      <td>True</td>\n    </tr>\n    <tr>\n      <th>3</th>\n      <td>692632</td>\n      <td>کارشناس اداری</td>\n      <td>منابع انسانی</td>\n      <td>گروه صنعتی ویتانا</td>\n      <td>کالاهای مصرفی و تند گردش</td>\n      <td>False</td>\n      <td>تهران</td>\n      <td>تهران</td>\n      <td>مرکز</td>\n      <td>تمام وقت</td>\n      <td>کارشناس</td>\n      <td>20.0</td>\n      <td>15.0</td>\n      <td>تفاوتی ندارد</td>\n      <td>3</td>\n      <td>False</td>\n      <td>False</td>\n    </tr>\n    <tr>\n      <th>4</th>\n      <td>690931</td>\n      <td>کارشناس ارشد دیجیتال مارکتینگ</td>\n      <td>دیجیتال مارکتینگ و سئو</td>\n      <td>ترنسیس</td>\n      <td>ترجمه</td>\n      <td>False</td>\n      <td>تهران</td>\n      <td>تهران</td>\n      <td>مرکز</td>\n      <td>تمام وقت</td>\n      <td>کارشناس ارشد</td>\n      <td>20.0</td>\n      <td>15.0</td>\n      <td>تفاوتی ندارد</td>\n      <td>3</td>\n      <td>False</td>\n      <td>True</td>\n    </tr>\n    <tr>\n      <th>5</th>\n      <td>692533</td>\n      <td>کارشناس فروش</td>\n      <td>فروش و بازاریابی - سطوح کارشناسی و مدیریتی</td>\n      <td>تعمیرات ریلی مپنا</td>\n      <td>حمل و نقل / ترابری</td>\n      <td>False</td>\n      <td>تهران</td>\n      <td>تهران</td>\n      <td>مرکز</td>\n      <td>تمام وقت</td>\n      <td>کارشناس</td>\n      <td>20.0</td>\n      <td>15.0</td>\n      <td>تفاوتی ندارد</td>\n      <td>3</td>\n      <td>False</td>\n      <td>False</td>\n    </tr>\n    <tr>\n      <th>...</th>\n      <td>...</td>\n      <td>...</td>\n      <td>...</td>\n      <td>...</td>\n      <td>...</td>\n      <td>...</td>\n      <td>...</td>\n      <td>...</td>\n      <td>...</td>\n      <td>...</td>\n      <td>...</td>\n      <td>...</td>\n      <td>...</td>\n      <td>...</td>\n      <td>...</td>\n      <td>...</td>\n      <td>...</td>\n    </tr>\n    <tr>\n      <th>38305</th>\n      <td>664934</td>\n      <td>صافکار پی دی آر کار - آقا</td>\n      <td>تکنسین فنی / تعمیرکار / کارگر ماهر</td>\n      <td>آس تک پردیس</td>\n      <td>خرده فروشی / مرکز خرید / فروشگاه</td>\n      <td>False</td>\n      <td>خراسان رضوی</td>\n      <td>مشهد</td>\n      <td>NaN</td>\n      <td>تمام وقت</td>\n      <td>کارمند</td>\n      <td>NaN</td>\n      <td>NaN</td>\n      <td>فقط آقا</td>\n      <td>1</td>\n      <td>False</td>\n      <td>False</td>\n    </tr>\n    <tr>\n      <th>38306</th>\n      <td>663523</td>\n      <td>مدیر فروش و بازاریابی</td>\n      <td>فروش و بازاریابی - سطوح کارشناسی و مدیریتی</td>\n      <td>شرکت آتیه سازان بیمه سامان</td>\n      <td>بیمه</td>\n      <td>False</td>\n      <td>زنجان</td>\n      <td>خدابنده</td>\n      <td>NaN</td>\n      <td>تمام وقت یا پاره وقت</td>\n      <td>مدیر میانی</td>\n      <td>NaN</td>\n      <td>NaN</td>\n      <td>تفاوتی ندارد</td>\n      <td>1</td>\n      <td>False</td>\n      <td>False</td>\n    </tr>\n    <tr>\n      <th>38307</th>\n      <td>663536</td>\n      <td>مدیر فروش و بازاریابی</td>\n      <td>فروش و بازاریابی - سطوح کارشناسی و مدیریتی</td>\n      <td>شرکت آتیه سازان بیمه سامان</td>\n      <td>بیمه</td>\n      <td>False</td>\n      <td>آذربایجان شرقی</td>\n      <td>عجب شیر</td>\n      <td>NaN</td>\n      <td>تمام وقت یا پاره وقت</td>\n      <td>مدیر میانی</td>\n      <td>NaN</td>\n      <td>NaN</td>\n      <td>تفاوتی ندارد</td>\n      <td>1</td>\n      <td>False</td>\n      <td>False</td>\n    </tr>\n    <tr>\n      <th>38308</th>\n      <td>652226</td>\n      <td>کارشناس HSE</td>\n      <td>بهداشت، ایمنی و محیط زیست (HSE)</td>\n      <td>شرکت مهندسی فرانیرو</td>\n      <td>شرکت های خدماتی / پیمانکاران</td>\n      <td>False</td>\n      <td>یزد</td>\n      <td>اردکان</td>\n      <td>NaN</td>\n      <td>تمام وقت</td>\n      <td>کارشناس</td>\n      <td>NaN</td>\n      <td>NaN</td>\n      <td>تفاوتی ندارد</td>\n      <td>3</td>\n      <td>False</td>\n      <td>False</td>\n    </tr>\n    <tr>\n      <th>38309</th>\n      <td>649258</td>\n      <td>بازاریاب حضوری (هوشمندسازی ساختمان)</td>\n      <td>فروش و بازاریابی - سطوح کارشناسی و مدیریتی</td>\n      <td>فن آوران آریا محور (هایپر صنعت فامکو)</td>\n      <td>خدمات مهندسی و تخصصی</td>\n      <td>False</td>\n      <td>تهران</td>\n      <td>تهران</td>\n      <td>غرب</td>\n      <td>تمام وقت</td>\n      <td>کارشناس</td>\n      <td>NaN</td>\n      <td>NaN</td>\n      <td>تفاوتی ندارد</td>\n      <td>0</td>\n      <td>False</td>\n      <td>False</td>\n    </tr>\n  </tbody>\n</table>\n<p>37853 rows × 17 columns</p>\n</div>"
     },
     "execution_count": 12,
     "metadata": {},
     "output_type": "execute_result"
    }
   ],
   "source": [
    "data"
   ],
   "metadata": {
    "collapsed": false,
    "ExecuteTime": {
     "end_time": "2024-04-11T20:39:51.053889Z",
     "start_time": "2024-04-11T20:39:50.709648Z"
    }
   },
   "id": "42815dd265684b98",
   "execution_count": 12
  },
  {
   "cell_type": "code",
   "outputs": [],
   "source": [
    "data.to_csv(\"data.csv\", index=False, encoding=\"utf-8-sig\")"
   ],
   "metadata": {
    "collapsed": false,
    "ExecuteTime": {
     "end_time": "2024-04-11T20:39:52.261301Z",
     "start_time": "2024-04-11T20:39:51.054914Z"
    }
   },
   "id": "d4d9a142050d3e6f",
   "execution_count": 13
  }
 ],
 "metadata": {
  "kernelspec": {
   "display_name": "Python 3 (ipykernel)",
   "language": "python",
   "name": "python3"
  },
  "language_info": {
   "codemirror_mode": {
    "name": "ipython",
    "version": 3
   },
   "file_extension": ".py",
   "mimetype": "text/x-python",
   "name": "python",
   "nbconvert_exporter": "python",
   "pygments_lexer": "ipython3",
   "version": "3.10.7"
  }
 },
 "nbformat": 4,
 "nbformat_minor": 5
}
