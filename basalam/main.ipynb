{
 "cells": [
  {
   "cell_type": "code",
   "execution_count": 1,
   "id": "initial_id",
   "metadata": {
    "ExecuteTime": {
     "end_time": "2024-04-23T21:12:43.188613Z",
     "start_time": "2024-04-23T21:12:26.649740Z"
    }
   },
   "outputs": [],
   "source": [
    "import pandas as pd\n",
    "import json"
   ]
  },
  {
   "cell_type": "code",
   "execution_count": 2,
   "id": "656755df5883dabe",
   "metadata": {
    "ExecuteTime": {
     "end_time": "2024-04-23T21:12:43.618069Z",
     "start_time": "2024-04-23T21:12:43.193240Z"
    }
   },
   "outputs": [],
   "source": [
    "with open(\"rawData/basalam1713906405.json\", \"r\", encoding=\"utf-8\") as fp:\n",
    "    products = json.loads(fp.read())"
   ]
  },
  {
   "cell_type": "code",
   "execution_count": 3,
   "id": "c493d3279bb04f2e",
   "metadata": {
    "ExecuteTime": {
     "end_time": "2024-04-23T21:12:44.242546Z",
     "start_time": "2024-04-23T21:12:43.619228Z"
    }
   },
   "outputs": [],
   "source": [
    "dfp = pd.json_normalize(products)\n",
    "dfp.drop_duplicates(subset=['id'], inplace=True)"
   ]
  },
  {
   "cell_type": "code",
   "outputs": [
    {
     "data": {
      "text/plain": "         _score  sales_count_week        id  categoryId has_delivery   \n0     494.11765                83   4108813      1275.0        False  \\\n1     493.82715                79   9461736         0.0        False   \n2     493.33334                73   4937906         0.0        False   \n3     492.64706                66    824662      1643.0         True   \n4     492.53732                65   6814579         0.0        False   \n...         ...               ...       ...         ...          ...   \n9994  400.00000                 3   7011805         0.0        False   \n9995  400.00000                 3  11350422         0.0         True   \n9996  400.00000                 3   9308530         0.0        False   \n9997  400.00000                 3   7493883         0.0         True   \n9998  400.00000                 3   7914616         0.0        False   \n\n                                                   name  new_categoryId   \n0     کرم سفید کننده شیر الاغ آبی (115 گرم) کرم شیر ...             455  \\\n1                                ساعت هوشمند T800 Ultra             903   \n2               عسل سبلان کیلویی 145 ت خرید از زنبوردار             172   \n3     کره بادام زمینی 1000 گرمی ارگانیک بدون مواد اف...             145   \n4     سیر سیاه همدان (یک کیلویی) پاستیلی درجه یک و ش...             190   \n...                                                 ...             ...   \n9994                        پاستیل ببتو کولا یک کیلویی              161   \n9995                      پد پاکسازی پوست فشرده 12 تایی             480   \n9996                             تیروکمان دستی حرفه ای              606   \n9997  جاروبرقی سوپرسایلنت بوش BOSH  3600 وات واقعی ل...             337   \n9998  ساطور قصابی ضربه زن استاد مهدیون فولاد فنر ماش...             716   \n\n      preparationDays     price  primaryPrice  ...  badge.title  badge.type   \n0                   1    770000        800000  ...          NaN         NaN  \\\n1                   4   2130000       4000000  ...          NaN         NaN   \n2                   1   1450000       1750000  ...          NaN         NaN   \n3                   2   1569000       2300000  ...          NaN         NaN   \n4                   1   2660000       2800000  ...          NaN         NaN   \n...               ...       ...           ...  ...          ...         ...   \n9994                1   2800000       3000000  ...          NaN         NaN   \n9995                1    700000        950000  ...          NaN         NaN   \n9996                3   2190000       2600000  ...          NaN         NaN   \n9997                1  34900000      45000000  ...          NaN         NaN   \n9998                1   3300000             0  ...          NaN         NaN   \n\n      badge.product_id  badge.assign_description   \n0                  NaN                       NaN  \\\n1                  NaN                       NaN   \n2                  NaN                       NaN   \n3                  NaN                       NaN   \n4                  NaN                       NaN   \n...                ...                       ...   \n9994               NaN                       NaN   \n9995               NaN                       NaN   \n9996               NaN                       NaN   \n9997               NaN                       NaN   \n9998               NaN                       NaN   \n\n      badge.assign_params.primary_price  badge.assign_params.total_stock   \n0                                   NaN                              NaN  \\\n1                                   NaN                              NaN   \n2                                   NaN                              NaN   \n3                                   NaN                              NaN   \n4                                   NaN                              NaN   \n...                                 ...                              ...   \n9994                                NaN                              NaN   \n9995                                NaN                              NaN   \n9996                                NaN                              NaN   \n9997                                NaN                              NaN   \n9998                                NaN                              NaN   \n\n      badge.assign_params.remaining_stock  badge.assign_params.expire_time   \n0                                     NaN                              NaN  \\\n1                                     NaN                              NaN   \n2                                     NaN                              NaN   \n3                                     NaN                              NaN   \n4                                     NaN                              NaN   \n...                                   ...                              ...   \n9994                                  NaN                              NaN   \n9995                                  NaN                              NaN   \n9996                                  NaN                              NaN   \n9997                                  NaN                              NaN   \n9998                                  NaN                              NaN   \n\n      badge.icon freeShippingToSameCity  \n0            NaN                    NaN  \n1            NaN                    NaN  \n2            NaN                    NaN  \n3            NaN                    NaN  \n4            NaN                    NaN  \n...          ...                    ...  \n9994         NaN                    NaN  \n9995         NaN                    NaN  \n9996         NaN                    NaN  \n9997         NaN                    NaN  \n9998         NaN                    NaN  \n\n[8759 rows x 73 columns]",
      "text/html": "<div>\n<style scoped>\n    .dataframe tbody tr th:only-of-type {\n        vertical-align: middle;\n    }\n\n    .dataframe tbody tr th {\n        vertical-align: top;\n    }\n\n    .dataframe thead th {\n        text-align: right;\n    }\n</style>\n<table border=\"1\" class=\"dataframe\">\n  <thead>\n    <tr style=\"text-align: right;\">\n      <th></th>\n      <th>_score</th>\n      <th>sales_count_week</th>\n      <th>id</th>\n      <th>categoryId</th>\n      <th>has_delivery</th>\n      <th>name</th>\n      <th>new_categoryId</th>\n      <th>preparationDays</th>\n      <th>price</th>\n      <th>primaryPrice</th>\n      <th>...</th>\n      <th>badge.title</th>\n      <th>badge.type</th>\n      <th>badge.product_id</th>\n      <th>badge.assign_description</th>\n      <th>badge.assign_params.primary_price</th>\n      <th>badge.assign_params.total_stock</th>\n      <th>badge.assign_params.remaining_stock</th>\n      <th>badge.assign_params.expire_time</th>\n      <th>badge.icon</th>\n      <th>freeShippingToSameCity</th>\n    </tr>\n  </thead>\n  <tbody>\n    <tr>\n      <th>0</th>\n      <td>494.11765</td>\n      <td>83</td>\n      <td>4108813</td>\n      <td>1275.0</td>\n      <td>False</td>\n      <td>کرم سفید کننده شیر الاغ آبی (115 گرم) کرم شیر ...</td>\n      <td>455</td>\n      <td>1</td>\n      <td>770000</td>\n      <td>800000</td>\n      <td>...</td>\n      <td>NaN</td>\n      <td>NaN</td>\n      <td>NaN</td>\n      <td>NaN</td>\n      <td>NaN</td>\n      <td>NaN</td>\n      <td>NaN</td>\n      <td>NaN</td>\n      <td>NaN</td>\n      <td>NaN</td>\n    </tr>\n    <tr>\n      <th>1</th>\n      <td>493.82715</td>\n      <td>79</td>\n      <td>9461736</td>\n      <td>0.0</td>\n      <td>False</td>\n      <td>ساعت هوشمند T800 Ultra</td>\n      <td>903</td>\n      <td>4</td>\n      <td>2130000</td>\n      <td>4000000</td>\n      <td>...</td>\n      <td>NaN</td>\n      <td>NaN</td>\n      <td>NaN</td>\n      <td>NaN</td>\n      <td>NaN</td>\n      <td>NaN</td>\n      <td>NaN</td>\n      <td>NaN</td>\n      <td>NaN</td>\n      <td>NaN</td>\n    </tr>\n    <tr>\n      <th>2</th>\n      <td>493.33334</td>\n      <td>73</td>\n      <td>4937906</td>\n      <td>0.0</td>\n      <td>False</td>\n      <td>عسل سبلان کیلویی 145 ت خرید از زنبوردار</td>\n      <td>172</td>\n      <td>1</td>\n      <td>1450000</td>\n      <td>1750000</td>\n      <td>...</td>\n      <td>NaN</td>\n      <td>NaN</td>\n      <td>NaN</td>\n      <td>NaN</td>\n      <td>NaN</td>\n      <td>NaN</td>\n      <td>NaN</td>\n      <td>NaN</td>\n      <td>NaN</td>\n      <td>NaN</td>\n    </tr>\n    <tr>\n      <th>3</th>\n      <td>492.64706</td>\n      <td>66</td>\n      <td>824662</td>\n      <td>1643.0</td>\n      <td>True</td>\n      <td>کره بادام زمینی 1000 گرمی ارگانیک بدون مواد اف...</td>\n      <td>145</td>\n      <td>2</td>\n      <td>1569000</td>\n      <td>2300000</td>\n      <td>...</td>\n      <td>NaN</td>\n      <td>NaN</td>\n      <td>NaN</td>\n      <td>NaN</td>\n      <td>NaN</td>\n      <td>NaN</td>\n      <td>NaN</td>\n      <td>NaN</td>\n      <td>NaN</td>\n      <td>NaN</td>\n    </tr>\n    <tr>\n      <th>4</th>\n      <td>492.53732</td>\n      <td>65</td>\n      <td>6814579</td>\n      <td>0.0</td>\n      <td>False</td>\n      <td>سیر سیاه همدان (یک کیلویی) پاستیلی درجه یک و ش...</td>\n      <td>190</td>\n      <td>1</td>\n      <td>2660000</td>\n      <td>2800000</td>\n      <td>...</td>\n      <td>NaN</td>\n      <td>NaN</td>\n      <td>NaN</td>\n      <td>NaN</td>\n      <td>NaN</td>\n      <td>NaN</td>\n      <td>NaN</td>\n      <td>NaN</td>\n      <td>NaN</td>\n      <td>NaN</td>\n    </tr>\n    <tr>\n      <th>...</th>\n      <td>...</td>\n      <td>...</td>\n      <td>...</td>\n      <td>...</td>\n      <td>...</td>\n      <td>...</td>\n      <td>...</td>\n      <td>...</td>\n      <td>...</td>\n      <td>...</td>\n      <td>...</td>\n      <td>...</td>\n      <td>...</td>\n      <td>...</td>\n      <td>...</td>\n      <td>...</td>\n      <td>...</td>\n      <td>...</td>\n      <td>...</td>\n      <td>...</td>\n      <td>...</td>\n    </tr>\n    <tr>\n      <th>9994</th>\n      <td>400.00000</td>\n      <td>3</td>\n      <td>7011805</td>\n      <td>0.0</td>\n      <td>False</td>\n      <td>پاستیل ببتو کولا یک کیلویی</td>\n      <td>161</td>\n      <td>1</td>\n      <td>2800000</td>\n      <td>3000000</td>\n      <td>...</td>\n      <td>NaN</td>\n      <td>NaN</td>\n      <td>NaN</td>\n      <td>NaN</td>\n      <td>NaN</td>\n      <td>NaN</td>\n      <td>NaN</td>\n      <td>NaN</td>\n      <td>NaN</td>\n      <td>NaN</td>\n    </tr>\n    <tr>\n      <th>9995</th>\n      <td>400.00000</td>\n      <td>3</td>\n      <td>11350422</td>\n      <td>0.0</td>\n      <td>True</td>\n      <td>پد پاکسازی پوست فشرده 12 تایی</td>\n      <td>480</td>\n      <td>1</td>\n      <td>700000</td>\n      <td>950000</td>\n      <td>...</td>\n      <td>NaN</td>\n      <td>NaN</td>\n      <td>NaN</td>\n      <td>NaN</td>\n      <td>NaN</td>\n      <td>NaN</td>\n      <td>NaN</td>\n      <td>NaN</td>\n      <td>NaN</td>\n      <td>NaN</td>\n    </tr>\n    <tr>\n      <th>9996</th>\n      <td>400.00000</td>\n      <td>3</td>\n      <td>9308530</td>\n      <td>0.0</td>\n      <td>False</td>\n      <td>تیروکمان دستی حرفه ای</td>\n      <td>606</td>\n      <td>3</td>\n      <td>2190000</td>\n      <td>2600000</td>\n      <td>...</td>\n      <td>NaN</td>\n      <td>NaN</td>\n      <td>NaN</td>\n      <td>NaN</td>\n      <td>NaN</td>\n      <td>NaN</td>\n      <td>NaN</td>\n      <td>NaN</td>\n      <td>NaN</td>\n      <td>NaN</td>\n    </tr>\n    <tr>\n      <th>9997</th>\n      <td>400.00000</td>\n      <td>3</td>\n      <td>7493883</td>\n      <td>0.0</td>\n      <td>True</td>\n      <td>جاروبرقی سوپرسایلنت بوش BOSH  3600 وات واقعی ل...</td>\n      <td>337</td>\n      <td>1</td>\n      <td>34900000</td>\n      <td>45000000</td>\n      <td>...</td>\n      <td>NaN</td>\n      <td>NaN</td>\n      <td>NaN</td>\n      <td>NaN</td>\n      <td>NaN</td>\n      <td>NaN</td>\n      <td>NaN</td>\n      <td>NaN</td>\n      <td>NaN</td>\n      <td>NaN</td>\n    </tr>\n    <tr>\n      <th>9998</th>\n      <td>400.00000</td>\n      <td>3</td>\n      <td>7914616</td>\n      <td>0.0</td>\n      <td>False</td>\n      <td>ساطور قصابی ضربه زن استاد مهدیون فولاد فنر ماش...</td>\n      <td>716</td>\n      <td>1</td>\n      <td>3300000</td>\n      <td>0</td>\n      <td>...</td>\n      <td>NaN</td>\n      <td>NaN</td>\n      <td>NaN</td>\n      <td>NaN</td>\n      <td>NaN</td>\n      <td>NaN</td>\n      <td>NaN</td>\n      <td>NaN</td>\n      <td>NaN</td>\n      <td>NaN</td>\n    </tr>\n  </tbody>\n</table>\n<p>8759 rows × 73 columns</p>\n</div>"
     },
     "execution_count": 5,
     "metadata": {},
     "output_type": "execute_result"
    }
   ],
   "source": [
    "dfp"
   ],
   "metadata": {
    "collapsed": false,
    "ExecuteTime": {
     "end_time": "2024-04-23T21:15:41.168039Z",
     "start_time": "2024-04-23T21:15:41.136835Z"
    }
   },
   "id": "b1ff85b8714674e9",
   "execution_count": 5
  },
  {
   "cell_type": "code",
   "outputs": [],
   "source": [
    "pkeys = ['_score', 'sales_count_week', 'id', 'has_delivery',\n",
    "       'name', 'new_categoryId', 'preparationDays', 'price', 'primaryPrice',\n",
    "       'stock', 'weight',\n",
    "       'isFreeShipping',\n",
    "       'mainAttribute', 'categoryTitle', 'rating.average', 'rating.count',\n",
    "       'vendor.freeShippingToIran', 'vendor.freeShippingToSameCity',\n",
    "       'vendor.has_delivery', 'vendor.name', 'vendor.score', 'vendor.id', 'vendor.owner.city']"
   ],
   "metadata": {
    "collapsed": false,
    "ExecuteTime": {
     "end_time": "2024-04-21T20:38:48.052623Z",
     "start_time": "2024-04-21T20:38:48.039465Z"
    }
   },
   "id": "9e2830734b95f90",
   "execution_count": 8
  },
  {
   "cell_type": "code",
   "outputs": [],
   "source": [
    "dfp = dfp[pkeys].to_csv('basalamProducts.csv', index=False, encoding='utf-8-sig')"
   ],
   "metadata": {
    "collapsed": false,
    "ExecuteTime": {
     "end_time": "2024-04-21T20:38:53.411928Z",
     "start_time": "2024-04-21T20:38:48.757861Z"
    }
   },
   "id": "c386cc23319c71e4",
   "execution_count": 9
  }
 ],
 "metadata": {
  "kernelspec": {
   "display_name": "Python 3 (ipykernel)",
   "language": "python",
   "name": "python3"
  },
  "language_info": {
   "codemirror_mode": {
    "name": "ipython",
    "version": 3
   },
   "file_extension": ".py",
   "mimetype": "text/x-python",
   "name": "python",
   "nbconvert_exporter": "python",
   "pygments_lexer": "ipython3",
   "version": "3.10.7"
  }
 },
 "nbformat": 4,
 "nbformat_minor": 5
}
