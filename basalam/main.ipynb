{
 "cells": [
  {
   "cell_type": "code",
   "execution_count": 9,
   "id": "initial_id",
   "metadata": {
    "ExecuteTime": {
     "end_time": "2024-04-23T21:41:44.472127Z",
     "start_time": "2024-04-23T21:41:44.453027Z"
    }
   },
   "outputs": [],
   "source": [
    "import pandas as pd\n",
    "import json"
   ]
  },
  {
   "cell_type": "code",
   "execution_count": 16,
   "id": "656755df5883dabe",
   "metadata": {
    "ExecuteTime": {
     "end_time": "2024-04-23T21:52:13.559658Z",
     "start_time": "2024-04-23T21:51:35.121423Z"
    }
   },
   "outputs": [],
   "source": [
    "with open(\"rawData/basalam1713909013.json\", \"r\", encoding=\"utf-8\") as fp:\n",
    "    products = json.loads(fp.read())"
   ]
  },
  {
   "cell_type": "code",
   "execution_count": 17,
   "id": "c493d3279bb04f2e",
   "metadata": {
    "ExecuteTime": {
     "end_time": "2024-04-23T21:52:21.257556Z",
     "start_time": "2024-04-23T21:52:16.665049Z"
    }
   },
   "outputs": [],
   "source": [
    "dfp = pd.json_normalize(products)\n",
    "dfp.drop_duplicates(subset=['id'], inplace=True)"
   ]
  },
  {
   "cell_type": "code",
   "outputs": [
    {
     "data": {
      "text/plain": "           _score  sales_count_week       id  categoryId has_delivery   \n0       493.33334                73  4937906         0.0        False  \\\n1       492.64706                66  6814579         0.0        False   \n2       492.64706                66   824662      1643.0         True   \n3       491.52542                57  4938994         0.0        False   \n4       489.13043                44   962848      1021.0        False   \n...           ...               ...      ...         ...          ...   \n119981  204.54546                 0  3274536      1085.0         True   \n119982  204.54546                 0  6404370         0.0         True   \n119983  204.54546                 0  6453754         0.0         True   \n119984  204.54546                 0  4862327         0.0         True   \n119985  204.54546                 0  3866293      1214.0         True   \n\n        has_variation                                               name   \n0               False            عسل سبلان کیلویی 145 ت خرید از زنبوردار  \\\n1               False  سیر سیاه همدان (یک کیلویی) پاستیلی درجه یک و ش...   \n2               False  کره بادام زمینی 1000 گرمی ارگانیک بدون مواد اف...   \n3               False  عسل باموم چهل گیاه بسیار خوشمزه (خرید بدون واسطه)   \n4               False         خرید عسل چهل گیاه ساکارز زیر پنج 175 تومن    \n...               ...                                                ...   \n119981          False             سرهمی گرم لوپیلو از 2 ماهگی تا 3 سالگی   \n119982          False    تم تولد لیوان و بشقاب تم بی بی دختر (پک 10عددی)   \n119983          False  تم تولد لیوان و بشقاب تم  مشکی خال قرمز(پک10عد...   \n119984          False                          صدف دوکی کوچک (پک 3 عددی)   \n119985          False  تشک  دو نفره  پنبه‌ای با پارچه متقال  درجه یک ...   \n\n        new_categoryId  preparationDays     price  ...   \n0                  172                1   1450000  ...  \\\n1                  190                1   2660000  ...   \n2                  145                2   1569000  ...   \n3                  172                1   1750000  ...   \n4                  172                1   1750000  ...   \n...                ...              ...       ...  ...   \n119981             790                2   2890000  ...   \n119982             790                1    270000  ...   \n119983             790                1    270000  ...   \n119984             790               25    240000  ...   \n119985             790               30  23500000  ...   \n\n        badge.assign_params.total_stock  badge.assign_params.remaining_stock   \n0                                   NaN                                  NaN  \\\n1                                   NaN                                  NaN   \n2                                   NaN                                  NaN   \n3                                   NaN                                  NaN   \n4                                   NaN                                  NaN   \n...                                 ...                                  ...   \n119981                              NaN                                  NaN   \n119982                              NaN                                  NaN   \n119983                              NaN                                  NaN   \n119984                              NaN                                  NaN   \n119985                              NaN                                  NaN   \n\n        badge.assign_params.expire_time  badge.icon  promotions.type   \n0                                   NaN         NaN              NaN  \\\n1                                   NaN         NaN              NaN   \n2                                   NaN         NaN              NaN   \n3                                   NaN         NaN              NaN   \n4                                   NaN         NaN              NaN   \n...                                 ...         ...              ...   \n119981                              NaN         NaN              NaN   \n119982                              NaN         NaN              NaN   \n119983                              NaN         NaN              NaN   \n119984                              NaN         NaN              NaN   \n119985                              NaN         NaN              NaN   \n\n        promotions.link  promotions.title  promotions.endTime   \n0                   NaN               NaN                 NaN  \\\n1                   NaN               NaN                 NaN   \n2                   NaN               NaN                 NaN   \n3                   NaN               NaN                 NaN   \n4                   NaN               NaN                 NaN   \n...                 ...               ...                 ...   \n119981              NaN               NaN                 NaN   \n119982              NaN               NaN                 NaN   \n119983              NaN               NaN                 NaN   \n119984              NaN               NaN                 NaN   \n119985              NaN               NaN                 NaN   \n\n        promotions.cardBadgeTitle facet_color  \n0                             NaN         NaN  \n1                             NaN         NaN  \n2                             NaN         NaN  \n3                             NaN         NaN  \n4                             NaN         NaN  \n...                           ...         ...  \n119981                        NaN         NaN  \n119982                        NaN         NaN  \n119983                        NaN         NaN  \n119984                        NaN         NaN  \n119985                        NaN         NaN  \n\n[106582 rows x 79 columns]",
      "text/html": "<div>\n<style scoped>\n    .dataframe tbody tr th:only-of-type {\n        vertical-align: middle;\n    }\n\n    .dataframe tbody tr th {\n        vertical-align: top;\n    }\n\n    .dataframe thead th {\n        text-align: right;\n    }\n</style>\n<table border=\"1\" class=\"dataframe\">\n  <thead>\n    <tr style=\"text-align: right;\">\n      <th></th>\n      <th>_score</th>\n      <th>sales_count_week</th>\n      <th>id</th>\n      <th>categoryId</th>\n      <th>has_delivery</th>\n      <th>has_variation</th>\n      <th>name</th>\n      <th>new_categoryId</th>\n      <th>preparationDays</th>\n      <th>price</th>\n      <th>...</th>\n      <th>badge.assign_params.total_stock</th>\n      <th>badge.assign_params.remaining_stock</th>\n      <th>badge.assign_params.expire_time</th>\n      <th>badge.icon</th>\n      <th>promotions.type</th>\n      <th>promotions.link</th>\n      <th>promotions.title</th>\n      <th>promotions.endTime</th>\n      <th>promotions.cardBadgeTitle</th>\n      <th>facet_color</th>\n    </tr>\n  </thead>\n  <tbody>\n    <tr>\n      <th>0</th>\n      <td>493.33334</td>\n      <td>73</td>\n      <td>4937906</td>\n      <td>0.0</td>\n      <td>False</td>\n      <td>False</td>\n      <td>عسل سبلان کیلویی 145 ت خرید از زنبوردار</td>\n      <td>172</td>\n      <td>1</td>\n      <td>1450000</td>\n      <td>...</td>\n      <td>NaN</td>\n      <td>NaN</td>\n      <td>NaN</td>\n      <td>NaN</td>\n      <td>NaN</td>\n      <td>NaN</td>\n      <td>NaN</td>\n      <td>NaN</td>\n      <td>NaN</td>\n      <td>NaN</td>\n    </tr>\n    <tr>\n      <th>1</th>\n      <td>492.64706</td>\n      <td>66</td>\n      <td>6814579</td>\n      <td>0.0</td>\n      <td>False</td>\n      <td>False</td>\n      <td>سیر سیاه همدان (یک کیلویی) پاستیلی درجه یک و ش...</td>\n      <td>190</td>\n      <td>1</td>\n      <td>2660000</td>\n      <td>...</td>\n      <td>NaN</td>\n      <td>NaN</td>\n      <td>NaN</td>\n      <td>NaN</td>\n      <td>NaN</td>\n      <td>NaN</td>\n      <td>NaN</td>\n      <td>NaN</td>\n      <td>NaN</td>\n      <td>NaN</td>\n    </tr>\n    <tr>\n      <th>2</th>\n      <td>492.64706</td>\n      <td>66</td>\n      <td>824662</td>\n      <td>1643.0</td>\n      <td>True</td>\n      <td>False</td>\n      <td>کره بادام زمینی 1000 گرمی ارگانیک بدون مواد اف...</td>\n      <td>145</td>\n      <td>2</td>\n      <td>1569000</td>\n      <td>...</td>\n      <td>NaN</td>\n      <td>NaN</td>\n      <td>NaN</td>\n      <td>NaN</td>\n      <td>NaN</td>\n      <td>NaN</td>\n      <td>NaN</td>\n      <td>NaN</td>\n      <td>NaN</td>\n      <td>NaN</td>\n    </tr>\n    <tr>\n      <th>3</th>\n      <td>491.52542</td>\n      <td>57</td>\n      <td>4938994</td>\n      <td>0.0</td>\n      <td>False</td>\n      <td>False</td>\n      <td>عسل باموم چهل گیاه بسیار خوشمزه (خرید بدون واسطه)</td>\n      <td>172</td>\n      <td>1</td>\n      <td>1750000</td>\n      <td>...</td>\n      <td>NaN</td>\n      <td>NaN</td>\n      <td>NaN</td>\n      <td>NaN</td>\n      <td>NaN</td>\n      <td>NaN</td>\n      <td>NaN</td>\n      <td>NaN</td>\n      <td>NaN</td>\n      <td>NaN</td>\n    </tr>\n    <tr>\n      <th>4</th>\n      <td>489.13043</td>\n      <td>44</td>\n      <td>962848</td>\n      <td>1021.0</td>\n      <td>False</td>\n      <td>False</td>\n      <td>خرید عسل چهل گیاه ساکارز زیر پنج 175 تومن</td>\n      <td>172</td>\n      <td>1</td>\n      <td>1750000</td>\n      <td>...</td>\n      <td>NaN</td>\n      <td>NaN</td>\n      <td>NaN</td>\n      <td>NaN</td>\n      <td>NaN</td>\n      <td>NaN</td>\n      <td>NaN</td>\n      <td>NaN</td>\n      <td>NaN</td>\n      <td>NaN</td>\n    </tr>\n    <tr>\n      <th>...</th>\n      <td>...</td>\n      <td>...</td>\n      <td>...</td>\n      <td>...</td>\n      <td>...</td>\n      <td>...</td>\n      <td>...</td>\n      <td>...</td>\n      <td>...</td>\n      <td>...</td>\n      <td>...</td>\n      <td>...</td>\n      <td>...</td>\n      <td>...</td>\n      <td>...</td>\n      <td>...</td>\n      <td>...</td>\n      <td>...</td>\n      <td>...</td>\n      <td>...</td>\n      <td>...</td>\n    </tr>\n    <tr>\n      <th>119981</th>\n      <td>204.54546</td>\n      <td>0</td>\n      <td>3274536</td>\n      <td>1085.0</td>\n      <td>True</td>\n      <td>False</td>\n      <td>سرهمی گرم لوپیلو از 2 ماهگی تا 3 سالگی</td>\n      <td>790</td>\n      <td>2</td>\n      <td>2890000</td>\n      <td>...</td>\n      <td>NaN</td>\n      <td>NaN</td>\n      <td>NaN</td>\n      <td>NaN</td>\n      <td>NaN</td>\n      <td>NaN</td>\n      <td>NaN</td>\n      <td>NaN</td>\n      <td>NaN</td>\n      <td>NaN</td>\n    </tr>\n    <tr>\n      <th>119982</th>\n      <td>204.54546</td>\n      <td>0</td>\n      <td>6404370</td>\n      <td>0.0</td>\n      <td>True</td>\n      <td>False</td>\n      <td>تم تولد لیوان و بشقاب تم بی بی دختر (پک 10عددی)</td>\n      <td>790</td>\n      <td>1</td>\n      <td>270000</td>\n      <td>...</td>\n      <td>NaN</td>\n      <td>NaN</td>\n      <td>NaN</td>\n      <td>NaN</td>\n      <td>NaN</td>\n      <td>NaN</td>\n      <td>NaN</td>\n      <td>NaN</td>\n      <td>NaN</td>\n      <td>NaN</td>\n    </tr>\n    <tr>\n      <th>119983</th>\n      <td>204.54546</td>\n      <td>0</td>\n      <td>6453754</td>\n      <td>0.0</td>\n      <td>True</td>\n      <td>False</td>\n      <td>تم تولد لیوان و بشقاب تم  مشکی خال قرمز(پک10عد...</td>\n      <td>790</td>\n      <td>1</td>\n      <td>270000</td>\n      <td>...</td>\n      <td>NaN</td>\n      <td>NaN</td>\n      <td>NaN</td>\n      <td>NaN</td>\n      <td>NaN</td>\n      <td>NaN</td>\n      <td>NaN</td>\n      <td>NaN</td>\n      <td>NaN</td>\n      <td>NaN</td>\n    </tr>\n    <tr>\n      <th>119984</th>\n      <td>204.54546</td>\n      <td>0</td>\n      <td>4862327</td>\n      <td>0.0</td>\n      <td>True</td>\n      <td>False</td>\n      <td>صدف دوکی کوچک (پک 3 عددی)</td>\n      <td>790</td>\n      <td>25</td>\n      <td>240000</td>\n      <td>...</td>\n      <td>NaN</td>\n      <td>NaN</td>\n      <td>NaN</td>\n      <td>NaN</td>\n      <td>NaN</td>\n      <td>NaN</td>\n      <td>NaN</td>\n      <td>NaN</td>\n      <td>NaN</td>\n      <td>NaN</td>\n    </tr>\n    <tr>\n      <th>119985</th>\n      <td>204.54546</td>\n      <td>0</td>\n      <td>3866293</td>\n      <td>1214.0</td>\n      <td>True</td>\n      <td>False</td>\n      <td>تشک  دو نفره  پنبه‌ای با پارچه متقال  درجه یک ...</td>\n      <td>790</td>\n      <td>30</td>\n      <td>23500000</td>\n      <td>...</td>\n      <td>NaN</td>\n      <td>NaN</td>\n      <td>NaN</td>\n      <td>NaN</td>\n      <td>NaN</td>\n      <td>NaN</td>\n      <td>NaN</td>\n      <td>NaN</td>\n      <td>NaN</td>\n      <td>NaN</td>\n    </tr>\n  </tbody>\n</table>\n<p>106582 rows × 79 columns</p>\n</div>"
     },
     "execution_count": 18,
     "metadata": {},
     "output_type": "execute_result"
    }
   ],
   "source": [
    "dfp"
   ],
   "metadata": {
    "collapsed": false,
    "ExecuteTime": {
     "end_time": "2024-04-23T21:52:22.541595Z",
     "start_time": "2024-04-23T21:52:22.282807Z"
    }
   },
   "id": "b1ff85b8714674e9",
   "execution_count": 18
  },
  {
   "cell_type": "code",
   "outputs": [],
   "source": [
    "pkeys = ['_score', 'sales_count_week', 'id', 'has_delivery',\n",
    "       'name', 'new_categoryId', 'preparationDays', 'price', 'primaryPrice',\n",
    "       'stock', 'weight',\n",
    "       'isFreeShipping',\n",
    "       'mainAttribute', 'categoryTitle', 'rating.average', 'rating.count',\n",
    "       'vendor.freeShippingToIran', 'vendor.freeShippingToSameCity',\n",
    "       'vendor.has_delivery', 'vendor.name', 'vendor.score', 'vendor.id', 'vendor.owner.city']"
   ],
   "metadata": {
    "collapsed": false,
    "ExecuteTime": {
     "end_time": "2024-04-23T21:52:33.159857Z",
     "start_time": "2024-04-23T21:52:33.148373Z"
    }
   },
   "id": "9e2830734b95f90",
   "execution_count": 19
  },
  {
   "cell_type": "code",
   "outputs": [],
   "source": [
    "dfp = dfp[pkeys].to_csv('basalamProducts.csv', index=False, encoding='utf-8-sig')"
   ],
   "metadata": {
    "collapsed": false,
    "ExecuteTime": {
     "end_time": "2024-04-23T21:52:38.755348Z",
     "start_time": "2024-04-23T21:52:36.052270Z"
    }
   },
   "id": "c386cc23319c71e4",
   "execution_count": 20
  },
  {
   "cell_type": "code",
   "outputs": [],
   "source": [
    "dfg = dfp.copy()"
   ],
   "metadata": {
    "collapsed": false
   },
   "id": "823aebbb5d809326"
  }
 ],
 "metadata": {
  "kernelspec": {
   "display_name": "Python 3 (ipykernel)",
   "language": "python",
   "name": "python3"
  },
  "language_info": {
   "codemirror_mode": {
    "name": "ipython",
    "version": 3
   },
   "file_extension": ".py",
   "mimetype": "text/x-python",
   "name": "python",
   "nbconvert_exporter": "python",
   "pygments_lexer": "ipython3",
   "version": "3.10.7"
  }
 },
 "nbformat": 4,
 "nbformat_minor": 5
}
