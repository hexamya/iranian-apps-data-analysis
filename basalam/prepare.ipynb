{
 "cells": [
  {
   "cell_type": "code",
   "execution_count": 9,
   "id": "initial_id",
   "metadata": {
    "ExecuteTime": {
     "end_time": "2024-04-23T21:41:44.472127Z",
     "start_time": "2024-04-23T21:41:44.453027Z"
    }
   },
   "outputs": [],
   "source": [
    "from pymongo import MongoClient\n",
    "\n",
    "client = MongoClient('localhost', 27017)\n",
    "db = client.iranian_ecommerce\n",
    "basalam_products_collection = db.basalam_products\n",
    "basalam_products = basalam_products_collection.find()"
   ]
  },
  {
   "cell_type": "code",
   "execution_count": 17,
   "id": "c493d3279bb04f2e",
   "metadata": {
    "ExecuteTime": {
     "end_time": "2024-04-23T21:52:21.257556Z",
     "start_time": "2024-04-23T21:52:16.665049Z"
    }
   },
   "outputs": [],
   "source": [
    "import pandas as pd\n",
    "\n",
    "dfp = pd.json_normalize(basalam_products)\n",
    "dfp.drop_duplicates(subset=['id'], inplace=True)\n",
    "dfp.head()"
   ]
  },
  {
   "cell_type": "code",
   "outputs": [],
   "source": [
    "pkeys = [\n",
    "       '_score',\n",
    "       'sales_count_week',\n",
    "       'id',\n",
    "       'has_delivery',\n",
    "       'name',\n",
    "       'new_categoryId',\n",
    "       'preparationDays',\n",
    "       'price',\n",
    "       'primaryPrice',\n",
    "       'stock',\n",
    "       'weight',\n",
    "       'isFreeShipping',\n",
    "       'mainAttribute',\n",
    "       'categoryTitle',\n",
    "       'rating.average',\n",
    "       'rating.count',\n",
    "       'vendor.freeShippingToIran',\n",
    "       'vendor.freeShippingToSameCity',\n",
    "       'vendor.has_delivery',\n",
    "       'vendor.name',\n",
    "       'vendor.score',\n",
    "       'vendor.id',\n",
    "       'vendor.owner.city'\n",
    "]"
   ],
   "metadata": {
    "collapsed": false,
    "ExecuteTime": {
     "end_time": "2024-04-23T21:52:33.159857Z",
     "start_time": "2024-04-23T21:52:33.148373Z"
    }
   },
   "id": "9e2830734b95f90",
   "execution_count": 19
  },
  {
   "cell_type": "code",
   "outputs": [],
   "source": [
    "dfp = dfp[pkeys].to_csv('basalamProducts.csv', index=False, encoding='utf-8-sig')"
   ],
   "metadata": {
    "collapsed": false,
    "ExecuteTime": {
     "end_time": "2024-04-23T21:52:38.755348Z",
     "start_time": "2024-04-23T21:52:36.052270Z"
    }
   },
   "id": "c386cc23319c71e4",
   "execution_count": 20
  },
  {
   "cell_type": "code",
   "outputs": [],
   "source": [
    "dfg = dfp.copy()"
   ],
   "metadata": {
    "collapsed": false
   },
   "id": "823aebbb5d809326"
  }
 ],
 "metadata": {
  "kernelspec": {
   "display_name": "Python 3 (ipykernel)",
   "language": "python",
   "name": "python3"
  },
  "language_info": {
   "codemirror_mode": {
    "name": "ipython",
    "version": 3
   },
   "file_extension": ".py",
   "mimetype": "text/x-python",
   "name": "python",
   "nbconvert_exporter": "python",
   "pygments_lexer": "ipython3",
   "version": "3.10.7"
  }
 },
 "nbformat": 4,
 "nbformat_minor": 5
}
