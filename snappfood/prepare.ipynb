{
 "cells": [
  {
   "cell_type": "code",
   "execution_count": 1,
   "id": "initial_id",
   "metadata": {
    "ExecuteTime": {
     "end_time": "2024-04-21T20:18:12.606094Z",
     "start_time": "2024-04-21T20:17:58.902091Z"
    }
   },
   "outputs": [],
   "source": [
    "from pymongo import MongoClient\n",
    "\n",
    "client = MongoClient('localhost', 27017)\n",
    "db = client.iranian_ecommerce\n",
    "snappfood_vendors_collection = db.snappfood_vendors\n",
    "snappfood_products_collection = db.snappfood_products\n",
    "snappfood_vendors = snappfood_vendors_collection.find()\n",
    "snappfood_products = snappfood_products_collection.find()"
   ]
  },
  {
   "cell_type": "code",
   "execution_count": 3,
   "id": "c493d3279bb04f2e",
   "metadata": {
    "ExecuteTime": {
     "end_time": "2024-04-21T20:24:21.300207Z",
     "start_time": "2024-04-21T20:24:09.256429Z"
    }
   },
   "outputs": [],
   "source": [
    "import pandas as pd\n",
    "\n",
    "dfp = pd.json_normalize(snappfood_products)\n",
    "dfp.drop_duplicates(subset=['id'], inplace=True)"
   ]
  },
  {
   "cell_type": "code",
   "outputs": [
    {
     "data": {
      "text/plain": "        id stock  capacity productVariationTitle   \n0  4277157  None        -1           یک کیلو گرم  \\\n1  5759008  None        -1                یک سیخ   \n2  5755626  None        -1                دو سیخ   \n3  4915842  None        -1           یک کیلو گرم   \n4  4867436  None        -1                   ران   \n\n                           title   \n0               حلیم یک کیلو گرم  \\\n1  چلو کباب کوبیده معمولی یک سیخ   \n2  چلو کباب کوبیده معمولی دو سیخ   \n3            آش رشته یک کیلو گرم   \n4      زرشک پلو با مرغ سس پز ران   \n\n                                         description   price type  discount   \n0        گندم، گوشت مخلوط گوساله و گوسفندی، بدون نان  125000   []         0  \\\n1  کباب کوبیده مخلوط گوشت گوساله و گوسفندی 200 گر...  185000   []     37000   \n2  کباب کوبیده مخلوط گوشت گوساله و گوسفندی 200 گر...  305000   []     61000   \n3  رشته، نخود، لوبیا، سبزی، پیاز داغ، سیر داغ، نع...  125000   []         0   \n4   یک تکه مرغ سس پز شده 400 گرمی، 350 گرم زرشک پ...  225000   []     45000   \n\n   discountRatio  ... likesCount disLikesCount  popularityBadgeName   \n0              0  ...        165             7                 GOLD  \\\n1             20  ...         76            18                 GOLD   \n2             20  ...         53            11                 GOLD   \n3              0  ...         49            10                 GOLD   \n4             20  ...         61             7                 GOLD   \n\n                                  popularityBadgeURL  popularityScore   \n0  https://cdn.snappfood.ir/uploads/images/review...        96.129806  \\\n1  https://cdn.snappfood.ir/uploads/images/review...        87.825272   \n2  https://cdn.snappfood.ir/uploads/images/review...        87.825272   \n3  https://cdn.snappfood.ir/uploads/images/review...        62.463654   \n4  https://cdn.snappfood.ir/uploads/images/review...        34.933660   \n\n  videoLink  vendorCode              createdAt.date  createdAt.timezone_type   \n0      None      096jon  2019-02-15 17:41:40.000000                        3  \\\n1      None      096jon  2020-04-03 14:25:22.000000                        3   \n2      None      096jon  2020-03-31 12:38:53.000000                        3   \n3                096jon  2019-07-28 19:02:29.000000                        3   \n4      None      096jon  2019-07-15 11:09:15.000000                        3   \n\n   createdAt.timezone  \n0         Asia/Tehran  \n1         Asia/Tehran  \n2         Asia/Tehran  \n3         Asia/Tehran  \n4         Asia/Tehran  \n\n[5 rows x 30 columns]",
      "text/html": "<div>\n<style scoped>\n    .dataframe tbody tr th:only-of-type {\n        vertical-align: middle;\n    }\n\n    .dataframe tbody tr th {\n        vertical-align: top;\n    }\n\n    .dataframe thead th {\n        text-align: right;\n    }\n</style>\n<table border=\"1\" class=\"dataframe\">\n  <thead>\n    <tr style=\"text-align: right;\">\n      <th></th>\n      <th>id</th>\n      <th>stock</th>\n      <th>capacity</th>\n      <th>productVariationTitle</th>\n      <th>title</th>\n      <th>description</th>\n      <th>price</th>\n      <th>type</th>\n      <th>discount</th>\n      <th>discountRatio</th>\n      <th>...</th>\n      <th>likesCount</th>\n      <th>disLikesCount</th>\n      <th>popularityBadgeName</th>\n      <th>popularityBadgeURL</th>\n      <th>popularityScore</th>\n      <th>videoLink</th>\n      <th>vendorCode</th>\n      <th>createdAt.date</th>\n      <th>createdAt.timezone_type</th>\n      <th>createdAt.timezone</th>\n    </tr>\n  </thead>\n  <tbody>\n    <tr>\n      <th>0</th>\n      <td>4277157</td>\n      <td>None</td>\n      <td>-1</td>\n      <td>یک کیلو گرم</td>\n      <td>حلیم یک کیلو گرم</td>\n      <td>گندم، گوشت مخلوط گوساله و گوسفندی، بدون نان</td>\n      <td>125000</td>\n      <td>[]</td>\n      <td>0</td>\n      <td>0</td>\n      <td>...</td>\n      <td>165</td>\n      <td>7</td>\n      <td>GOLD</td>\n      <td>https://cdn.snappfood.ir/uploads/images/review...</td>\n      <td>96.129806</td>\n      <td>None</td>\n      <td>096jon</td>\n      <td>2019-02-15 17:41:40.000000</td>\n      <td>3</td>\n      <td>Asia/Tehran</td>\n    </tr>\n    <tr>\n      <th>1</th>\n      <td>5759008</td>\n      <td>None</td>\n      <td>-1</td>\n      <td>یک سیخ</td>\n      <td>چلو کباب کوبیده معمولی یک سیخ</td>\n      <td>کباب کوبیده مخلوط گوشت گوساله و گوسفندی 200 گر...</td>\n      <td>185000</td>\n      <td>[]</td>\n      <td>37000</td>\n      <td>20</td>\n      <td>...</td>\n      <td>76</td>\n      <td>18</td>\n      <td>GOLD</td>\n      <td>https://cdn.snappfood.ir/uploads/images/review...</td>\n      <td>87.825272</td>\n      <td>None</td>\n      <td>096jon</td>\n      <td>2020-04-03 14:25:22.000000</td>\n      <td>3</td>\n      <td>Asia/Tehran</td>\n    </tr>\n    <tr>\n      <th>2</th>\n      <td>5755626</td>\n      <td>None</td>\n      <td>-1</td>\n      <td>دو سیخ</td>\n      <td>چلو کباب کوبیده معمولی دو سیخ</td>\n      <td>کباب کوبیده مخلوط گوشت گوساله و گوسفندی 200 گر...</td>\n      <td>305000</td>\n      <td>[]</td>\n      <td>61000</td>\n      <td>20</td>\n      <td>...</td>\n      <td>53</td>\n      <td>11</td>\n      <td>GOLD</td>\n      <td>https://cdn.snappfood.ir/uploads/images/review...</td>\n      <td>87.825272</td>\n      <td>None</td>\n      <td>096jon</td>\n      <td>2020-03-31 12:38:53.000000</td>\n      <td>3</td>\n      <td>Asia/Tehran</td>\n    </tr>\n    <tr>\n      <th>3</th>\n      <td>4915842</td>\n      <td>None</td>\n      <td>-1</td>\n      <td>یک کیلو گرم</td>\n      <td>آش رشته یک کیلو گرم</td>\n      <td>رشته، نخود، لوبیا، سبزی، پیاز داغ، سیر داغ، نع...</td>\n      <td>125000</td>\n      <td>[]</td>\n      <td>0</td>\n      <td>0</td>\n      <td>...</td>\n      <td>49</td>\n      <td>10</td>\n      <td>GOLD</td>\n      <td>https://cdn.snappfood.ir/uploads/images/review...</td>\n      <td>62.463654</td>\n      <td></td>\n      <td>096jon</td>\n      <td>2019-07-28 19:02:29.000000</td>\n      <td>3</td>\n      <td>Asia/Tehran</td>\n    </tr>\n    <tr>\n      <th>4</th>\n      <td>4867436</td>\n      <td>None</td>\n      <td>-1</td>\n      <td>ران</td>\n      <td>زرشک پلو با مرغ سس پز ران</td>\n      <td>یک تکه مرغ سس پز شده 400 گرمی، 350 گرم زرشک پ...</td>\n      <td>225000</td>\n      <td>[]</td>\n      <td>45000</td>\n      <td>20</td>\n      <td>...</td>\n      <td>61</td>\n      <td>7</td>\n      <td>GOLD</td>\n      <td>https://cdn.snappfood.ir/uploads/images/review...</td>\n      <td>34.933660</td>\n      <td>None</td>\n      <td>096jon</td>\n      <td>2019-07-15 11:09:15.000000</td>\n      <td>3</td>\n      <td>Asia/Tehran</td>\n    </tr>\n  </tbody>\n</table>\n<p>5 rows × 30 columns</p>\n</div>"
     },
     "execution_count": 4,
     "metadata": {},
     "output_type": "execute_result"
    }
   ],
   "source": [
    "dfp.head()"
   ],
   "metadata": {
    "collapsed": false,
    "ExecuteTime": {
     "end_time": "2024-04-21T20:24:33.642956Z",
     "start_time": "2024-04-21T20:24:32.880439Z"
    }
   },
   "id": "b1ff85b8714674e9",
   "execution_count": 4
  },
  {
   "cell_type": "code",
   "outputs": [],
   "source": [
    "pkeys = [\n",
    "    'id',\n",
    "    'productVariationTitle',\n",
    "    'title',\n",
    "    'price',\n",
    "    'discount',\n",
    "    'productTitle',\n",
    "    'categoryTile',\n",
    "    'rating',\n",
    "    'likesCount',\n",
    "    'disLikesCount',\n",
    "    'popularityBadgeName',\n",
    "    'popularityScore',\n",
    "    'vendorCode'\n",
    "]"
   ],
   "metadata": {
    "collapsed": false,
    "ExecuteTime": {
     "end_time": "2024-04-21T20:38:48.052623Z",
     "start_time": "2024-04-21T20:38:48.039465Z"
    }
   },
   "id": "9e2830734b95f90",
   "execution_count": 8
  },
  {
   "cell_type": "code",
   "outputs": [],
   "source": [
    "dfp = dfp[pkeys].to_csv('snappfoodProducts.csv', index=False, encoding='utf-8-sig')"
   ],
   "metadata": {
    "collapsed": false,
    "ExecuteTime": {
     "end_time": "2024-04-21T20:38:53.411928Z",
     "start_time": "2024-04-21T20:38:48.757861Z"
    }
   },
   "id": "c386cc23319c71e4",
   "execution_count": 9
  },
  {
   "cell_type": "code",
   "outputs": [],
   "source": [
    "dfv = pd.json_normalize(snappfood_vendors)\n",
    "dfv.drop_duplicates(subset=['id'], inplace=True)"
   ],
   "metadata": {
    "collapsed": false,
    "ExecuteTime": {
     "end_time": "2024-04-21T20:55:19.323449Z",
     "start_time": "2024-04-21T20:55:18.655220Z"
    }
   },
   "id": "a66125157a6f66d8",
   "execution_count": 21
  },
  {
   "cell_type": "code",
   "outputs": [
    {
     "data": {
      "text/plain": "       id  rejectOutOfZone brokerType   state  preOrderOnly  noOrder city_id   \n0   32102             True       None  ACTIVE         False    False       1  \\\n1  253612            False       None  ACTIVE         False    False       1   \n2  287925            False       None  ACTIVE         False    False       1   \n3  360196             True       None  ACTIVE         False    False       1   \n4   38027            False       None  ACTIVE         False    False       1   \n\n    city        area  inPlaceDelivery  ... paymentTypes.1  paymentTypes.3   \n0  تهران    شهرک هما             True  ...            NaN             NaN  \\\n1  تهران  پونک جنوبی             True  ...            NaN             NaN   \n2  تهران         ونک             True  ...            NaN             NaN   \n3  تهران         ونک             True  ...            NaN             NaN   \n4  تهران      شهرآرا             True  ...            NaN             NaN   \n\n  paymentTypeCodes.0 paymentTypeCodes.1 paymentTypeCodes.3  preorderToday   \n0                NaN                NaN                NaN            NaN  \\\n1                NaN                NaN                NaN            NaN   \n2                NaN                NaN                NaN            NaN   \n3                NaN                NaN                NaN            NaN   \n4                NaN                NaN                NaN            NaN   \n\n  preorderTomorrow paymentTypes.4  paymentTypeCodes.4  reopeningTime  \n0              NaN            NaN                 NaN            NaN  \n1              NaN            NaN                 NaN            NaN  \n2              NaN            NaN                 NaN            NaN  \n3              NaN            NaN                 NaN            NaN  \n4              NaN            NaN                 NaN            NaN  \n\n[5 rows x 145 columns]",
      "text/html": "<div>\n<style scoped>\n    .dataframe tbody tr th:only-of-type {\n        vertical-align: middle;\n    }\n\n    .dataframe tbody tr th {\n        vertical-align: top;\n    }\n\n    .dataframe thead th {\n        text-align: right;\n    }\n</style>\n<table border=\"1\" class=\"dataframe\">\n  <thead>\n    <tr style=\"text-align: right;\">\n      <th></th>\n      <th>id</th>\n      <th>rejectOutOfZone</th>\n      <th>brokerType</th>\n      <th>state</th>\n      <th>preOrderOnly</th>\n      <th>noOrder</th>\n      <th>city_id</th>\n      <th>city</th>\n      <th>area</th>\n      <th>inPlaceDelivery</th>\n      <th>...</th>\n      <th>paymentTypes.1</th>\n      <th>paymentTypes.3</th>\n      <th>paymentTypeCodes.0</th>\n      <th>paymentTypeCodes.1</th>\n      <th>paymentTypeCodes.3</th>\n      <th>preorderToday</th>\n      <th>preorderTomorrow</th>\n      <th>paymentTypes.4</th>\n      <th>paymentTypeCodes.4</th>\n      <th>reopeningTime</th>\n    </tr>\n  </thead>\n  <tbody>\n    <tr>\n      <th>0</th>\n      <td>32102</td>\n      <td>True</td>\n      <td>None</td>\n      <td>ACTIVE</td>\n      <td>False</td>\n      <td>False</td>\n      <td>1</td>\n      <td>تهران</td>\n      <td>شهرک هما</td>\n      <td>True</td>\n      <td>...</td>\n      <td>NaN</td>\n      <td>NaN</td>\n      <td>NaN</td>\n      <td>NaN</td>\n      <td>NaN</td>\n      <td>NaN</td>\n      <td>NaN</td>\n      <td>NaN</td>\n      <td>NaN</td>\n      <td>NaN</td>\n    </tr>\n    <tr>\n      <th>1</th>\n      <td>253612</td>\n      <td>False</td>\n      <td>None</td>\n      <td>ACTIVE</td>\n      <td>False</td>\n      <td>False</td>\n      <td>1</td>\n      <td>تهران</td>\n      <td>پونک جنوبی</td>\n      <td>True</td>\n      <td>...</td>\n      <td>NaN</td>\n      <td>NaN</td>\n      <td>NaN</td>\n      <td>NaN</td>\n      <td>NaN</td>\n      <td>NaN</td>\n      <td>NaN</td>\n      <td>NaN</td>\n      <td>NaN</td>\n      <td>NaN</td>\n    </tr>\n    <tr>\n      <th>2</th>\n      <td>287925</td>\n      <td>False</td>\n      <td>None</td>\n      <td>ACTIVE</td>\n      <td>False</td>\n      <td>False</td>\n      <td>1</td>\n      <td>تهران</td>\n      <td>ونک</td>\n      <td>True</td>\n      <td>...</td>\n      <td>NaN</td>\n      <td>NaN</td>\n      <td>NaN</td>\n      <td>NaN</td>\n      <td>NaN</td>\n      <td>NaN</td>\n      <td>NaN</td>\n      <td>NaN</td>\n      <td>NaN</td>\n      <td>NaN</td>\n    </tr>\n    <tr>\n      <th>3</th>\n      <td>360196</td>\n      <td>True</td>\n      <td>None</td>\n      <td>ACTIVE</td>\n      <td>False</td>\n      <td>False</td>\n      <td>1</td>\n      <td>تهران</td>\n      <td>ونک</td>\n      <td>True</td>\n      <td>...</td>\n      <td>NaN</td>\n      <td>NaN</td>\n      <td>NaN</td>\n      <td>NaN</td>\n      <td>NaN</td>\n      <td>NaN</td>\n      <td>NaN</td>\n      <td>NaN</td>\n      <td>NaN</td>\n      <td>NaN</td>\n    </tr>\n    <tr>\n      <th>4</th>\n      <td>38027</td>\n      <td>False</td>\n      <td>None</td>\n      <td>ACTIVE</td>\n      <td>False</td>\n      <td>False</td>\n      <td>1</td>\n      <td>تهران</td>\n      <td>شهرآرا</td>\n      <td>True</td>\n      <td>...</td>\n      <td>NaN</td>\n      <td>NaN</td>\n      <td>NaN</td>\n      <td>NaN</td>\n      <td>NaN</td>\n      <td>NaN</td>\n      <td>NaN</td>\n      <td>NaN</td>\n      <td>NaN</td>\n      <td>NaN</td>\n    </tr>\n  </tbody>\n</table>\n<p>5 rows × 145 columns</p>\n</div>"
     },
     "execution_count": 22,
     "metadata": {},
     "output_type": "execute_result"
    }
   ],
   "source": [
    "dfv.head()"
   ],
   "metadata": {
    "collapsed": false,
    "ExecuteTime": {
     "end_time": "2024-04-21T20:55:19.354749Z",
     "start_time": "2024-04-21T20:55:19.325527Z"
    }
   },
   "id": "960f67c5268f178",
   "execution_count": 22
  },
  {
   "cell_type": "code",
   "outputs": [],
   "source": [
    "vkeys = [\n",
    "    'id',\n",
    "    'city',\n",
    "    'area',\n",
    "    'expeditionType',\n",
    "    'title',\n",
    "    'chainTitle',\n",
    "    'branchTitle',\n",
    "    'commentCount',\n",
    "    'rating', \n",
    "    'taxEnabled',\n",
    "    'tax',\n",
    "    'minOrder',\n",
    "    'address',\n",
    "    'lat',\n",
    "    'lon',\n",
    "    'establishment',\n",
    "    'deliveryType',\n",
    "    'expressDeliveryTime',\n",
    "    'budgetClass',\n",
    "    'maxDeliveryRadius',\n",
    "    'isEconomical',\n",
    "    'vendorCode',\n",
    "    'createdAt.date'\n",
    "]"
   ],
   "metadata": {
    "collapsed": false,
    "ExecuteTime": {
     "end_time": "2024-04-21T20:53:07.456369Z",
     "start_time": "2024-04-21T20:53:07.450681Z"
    }
   },
   "id": "eae2332aefe6d3d5",
   "execution_count": 18
  },
  {
   "cell_type": "code",
   "outputs": [],
   "source": [
    "dfv = dfv[vkeys].to_csv('snappfoodVendors.csv', index=False, encoding='utf-8-sig')"
   ],
   "metadata": {
    "collapsed": false,
    "ExecuteTime": {
     "end_time": "2024-04-21T20:53:08.874922Z",
     "start_time": "2024-04-21T20:53:08.724470Z"
    }
   },
   "id": "23914fc15aaf335d",
   "execution_count": 19
  }
 ],
 "metadata": {
  "kernelspec": {
   "display_name": "Python 3 (ipykernel)",
   "language": "python",
   "name": "python3"
  },
  "language_info": {
   "codemirror_mode": {
    "name": "ipython",
    "version": 3
   },
   "file_extension": ".py",
   "mimetype": "text/x-python",
   "name": "python",
   "nbconvert_exporter": "python",
   "pygments_lexer": "ipython3",
   "version": "3.10.7"
  }
 },
 "nbformat": 4,
 "nbformat_minor": 5
}
