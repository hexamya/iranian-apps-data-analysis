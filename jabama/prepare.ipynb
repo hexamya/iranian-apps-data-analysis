{
 "cells": [
  {
   "cell_type": "code",
   "execution_count": 1,
   "id": "initial_id",
   "metadata": {
    "ExecuteTime": {
     "end_time": "2024-04-11T20:13:35.326482Z",
     "start_time": "2024-04-11T20:13:22.732851Z"
    }
   },
   "outputs": [],
   "source": [
    "from pymongo import MongoClient\n",
    "\n",
    "client = MongoClient('localhost', 27017)\n",
    "db = client.iranian_ecommerce\n",
    "jabama_residences_collection = db.jabama_residences\n",
    "jabama_residences = jabama_residences_collection.find()"
   ]
  },
  {
   "cell_type": "code",
   "execution_count": 7,
   "id": "c493d3279bb04f2e",
   "metadata": {
    "ExecuteTime": {
     "end_time": "2024-04-11T20:25:04.002016Z",
     "start_time": "2024-04-11T20:25:02.748449Z"
    }
   },
   "outputs": [],
   "source": [
    "import pandas as pd\n",
    "\n",
    "df = pd.json_normalize(jabama_residences)\n",
    "df.drop_duplicates(subset=['id'], inplace=True)"
   ]
  },
  {
   "cell_type": "code",
   "outputs": [
    {
     "data": {
      "text/plain": "                                              amenities   \n0     [{'name': 'water', 'category': '64aba957d68627...  \\\n1     [{'name': 'water', 'category': '64aba957d68627...   \n2     [{'name': 'water', 'category': '64aba957d68627...   \n3     [{'name': 'water', 'category': '64aba957d68627...   \n4     [{'name': 'water', 'category': '64aba957d68627...   \n...                                                 ...   \n7300  [{'name': 'water', 'category': '64aba957d68627...   \n7301  [{'name': 'water', 'category': '64aba957d68627...   \n7302  [{'name': 'water', 'category': '64aba957d68627...   \n7303  [{'name': 'water', 'category': '64aba957d68627...   \n7304  [{'name': 'water', 'category': '64aba957d68627...   \n\n                                            description   \n0     ویلا در شهر آستارا (فازیک شهرک عباس آباد) واقع...  \\\n1     ویلا در شهر محمودآباد (روستا چهارمحل آهی ) واق...   \n2     ویلا در شهر سرخرود واقع شده است.\\nاقامتگاه در ...   \n3     ورود گروه های مجردی خانم و آقا ممنوع میباشد و ...   \n4     ویلا دارای نگهبان مقیم می باشد که البته هیچگون...   \n...                                                 ...   \n7300                 این اقامتگاه در کیش واقع شده است .   \n7301  اقامتگاه در محیطی اعیان نشین کرج و آرام آپارتم...   \n7302  آپارتمان در شهر کله بست (بابلسر) واقع شده است....   \n7303  آپارتمان در شهر شاهدیه واقع شده است.\\nاقامتگاه...   \n7304  آپارتمان در شهر ماهشهر واقع شده است.\\nاقامتگاه...   \n\n                            id   \n0     654260093e4468001bc3f47e  \\\n1     63d9139f1c5605001bd51797   \n2     6521baeb7bbd0d001bdc2679   \n3     62fc6fd60db335001c821702   \n4     62c4c363cc604f001b980899   \n...                        ...   \n7300  604b02bbdde52b001bdc26bf   \n7301  62baed611df868001cd4c15e   \n7302  64fa1d4cd66f88001c524a3d   \n7303  65966812a12e18001bfde290   \n7304  6534e7ec5cc5f0001b0735a2   \n\n                                                  image withoutCheckInHint   \n0     https://cdn.jabama.com/image/516x324/jabama-im...               None  \\\n1     https://cdn.jabama.com/image/516x324/jabama-im...               None   \n2     https://cdn.jabama.com/image/516x324/jabama-im...               None   \n3     https://cdn.jabama.com/image/516x324/jabama-im...               None   \n4     https://cdn.jabama.com/image/516x324/jabama-im...               None   \n...                                                 ...                ...   \n7300  https://cdn.jabama.com/image/516x324/jabama-im...               None   \n7301  https://cdn.jabama.com/image/516x324/jabama-im...               None   \n7302  https://cdn.jabama.com/image/516x324/jabama-im...               None   \n7303  https://cdn.jabama.com/image/516x324/jabama-im...               None   \n7304  https://cdn.jabama.com/image/516x324/jabama-im...               None   \n\n                                                 images           kind   \n0     [https://cdn.jabama.com/image/516x324/jabama-i...  accommodation  \\\n1     [https://cdn.jabama.com/image/516x324/jabama-i...  accommodation   \n2     [https://cdn.jabama.com/image/516x324/jabama-i...  accommodation   \n3     [https://cdn.jabama.com/image/516x324/jabama-i...  accommodation   \n4     [https://cdn.jabama.com/image/516x324/jabama-i...  accommodation   \n...                                                 ...            ...   \n7300  [https://cdn.jabama.com/image/516x324/jabama-i...  accommodation   \n7301  [https://cdn.jabama.com/image/516x324/jabama-i...  accommodation   \n7302  [https://cdn.jabama.com/image/516x324/jabama-i...  accommodation   \n7303  [https://cdn.jabama.com/image/516x324/jabama-i...  accommodation   \n7304  [https://cdn.jabama.com/image/516x324/jabama-i...  accommodation   \n\n      min_night   min_price  disinfected  ... price.discountPercent   \n0           1.0   6000000.0        False  ...                   0.0  \\\n1           1.0  20000000.0        False  ...                   0.0   \n2           1.0  18500000.0        False  ...                   0.0   \n3           1.0  10000000.0        False  ...                   0.0   \n4           2.0   8000000.0        False  ...                   0.0   \n...         ...         ...          ...  ...                   ...   \n7300        3.0  15000000.0        False  ...                   0.0   \n7301        1.0  13800000.0        False  ...                   0.0   \n7302        1.0  28000000.0        False  ...                  20.0   \n7303        1.0   7000000.0        False  ...                   0.0   \n7304        1.0  18800000.0        False  ...                   0.0   \n\n     price.discountedPrice price.capacity.base price.capacity.extra   \n0                6000000.0                 2.0                  2.0  \\\n1               20000000.0                 4.0                  6.0   \n2               18500000.0                 4.0                  2.0   \n3               10000000.0                 4.0                  1.0   \n4                8000000.0                 4.0                  1.0   \n...                    ...                 ...                  ...   \n7300            15000000.0                 2.0                  0.0   \n7301            13800000.0                 4.0                  5.0   \n7302            28000000.0                 5.0                  3.0   \n7303             7000000.0                 4.0                  5.0   \n7304            18800000.0                 2.0                  2.0   \n\n     price.isGuarantee price.isDefaultDate price.perNight   \n0                 True                True      6000000.0  \\\n1                 True                True     20000000.0   \n2                 True                True     18500000.0   \n3                 True                True     10000000.0   \n4                 True                True      8000000.0   \n...                ...                 ...            ...   \n7300             False                True     15000000.0   \n7301             False                True     13800000.0   \n7302             False                True     28000000.0   \n7303             False                True      7000000.0   \n7304             False                True     18800000.0   \n\n                                            price.text guarantee_period.start   \n0       جمع پرداختی شما (30 شب - 2 نفر): ٦٠٠٬٠٠٠ تومان             2024-04-10  \\\n1     جمع پرداختی شما (30 شب - 4 نفر): ٢٬٠٠٠٬٠٠٠ تومان             2024-04-10   \n2     جمع پرداختی شما (30 شب - 4 نفر): ١٬٨٥٠٬٠٠٠ تومان             2024-04-10   \n3     جمع پرداختی شما (30 شب - 4 نفر): ١٬٠٠٠٬٠٠٠ تومان             2024-04-10   \n4       جمع پرداختی شما (30 شب - 4 نفر): ٨٠٠٬٠٠٠ تومان             2024-04-10   \n...                                                ...                    ...   \n7300  جمع پرداختی شما (30 شب - 2 نفر): ١٬٥٠٠٬٠٠٠ تومان                          \n7301  جمع پرداختی شما (30 شب - 4 نفر): ١٬٣٨٠٬٠٠٠ تومان                          \n7302  جمع پرداختی شما (30 شب - 5 نفر): ٢٬٨٠٠٬٠٠٠ تومان                          \n7303    جمع پرداختی شما (30 شب - 4 نفر): ٧٠٠٬٠٠٠ تومان                          \n7304  جمع پرداختی شما (30 شب - 2 نفر): ١٬٨٨٠٬٠٠٠ تومان                          \n\n     guarantee_period.end  \n0              2024-04-19  \n1              2024-04-19  \n2              2024-04-19  \n3              2024-04-19  \n4              2024-04-19  \n...                   ...  \n7300                       \n7301                       \n7302                       \n7303                       \n7304                       \n\n[6782 rows x 68 columns]",
      "text/html": "<div>\n<style scoped>\n    .dataframe tbody tr th:only-of-type {\n        vertical-align: middle;\n    }\n\n    .dataframe tbody tr th {\n        vertical-align: top;\n    }\n\n    .dataframe thead th {\n        text-align: right;\n    }\n</style>\n<table border=\"1\" class=\"dataframe\">\n  <thead>\n    <tr style=\"text-align: right;\">\n      <th></th>\n      <th>amenities</th>\n      <th>description</th>\n      <th>id</th>\n      <th>image</th>\n      <th>withoutCheckInHint</th>\n      <th>images</th>\n      <th>kind</th>\n      <th>min_night</th>\n      <th>min_price</th>\n      <th>disinfected</th>\n      <th>...</th>\n      <th>price.discountPercent</th>\n      <th>price.discountedPrice</th>\n      <th>price.capacity.base</th>\n      <th>price.capacity.extra</th>\n      <th>price.isGuarantee</th>\n      <th>price.isDefaultDate</th>\n      <th>price.perNight</th>\n      <th>price.text</th>\n      <th>guarantee_period.start</th>\n      <th>guarantee_period.end</th>\n    </tr>\n  </thead>\n  <tbody>\n    <tr>\n      <th>0</th>\n      <td>[{'name': 'water', 'category': '64aba957d68627...</td>\n      <td>ویلا در شهر آستارا (فازیک شهرک عباس آباد) واقع...</td>\n      <td>654260093e4468001bc3f47e</td>\n      <td>https://cdn.jabama.com/image/516x324/jabama-im...</td>\n      <td>None</td>\n      <td>[https://cdn.jabama.com/image/516x324/jabama-i...</td>\n      <td>accommodation</td>\n      <td>1.0</td>\n      <td>6000000.0</td>\n      <td>False</td>\n      <td>...</td>\n      <td>0.0</td>\n      <td>6000000.0</td>\n      <td>2.0</td>\n      <td>2.0</td>\n      <td>True</td>\n      <td>True</td>\n      <td>6000000.0</td>\n      <td>جمع پرداختی شما (30 شب - 2 نفر): ٦٠٠٬٠٠٠ تومان</td>\n      <td>2024-04-10</td>\n      <td>2024-04-19</td>\n    </tr>\n    <tr>\n      <th>1</th>\n      <td>[{'name': 'water', 'category': '64aba957d68627...</td>\n      <td>ویلا در شهر محمودآباد (روستا چهارمحل آهی ) واق...</td>\n      <td>63d9139f1c5605001bd51797</td>\n      <td>https://cdn.jabama.com/image/516x324/jabama-im...</td>\n      <td>None</td>\n      <td>[https://cdn.jabama.com/image/516x324/jabama-i...</td>\n      <td>accommodation</td>\n      <td>1.0</td>\n      <td>20000000.0</td>\n      <td>False</td>\n      <td>...</td>\n      <td>0.0</td>\n      <td>20000000.0</td>\n      <td>4.0</td>\n      <td>6.0</td>\n      <td>True</td>\n      <td>True</td>\n      <td>20000000.0</td>\n      <td>جمع پرداختی شما (30 شب - 4 نفر): ٢٬٠٠٠٬٠٠٠ تومان</td>\n      <td>2024-04-10</td>\n      <td>2024-04-19</td>\n    </tr>\n    <tr>\n      <th>2</th>\n      <td>[{'name': 'water', 'category': '64aba957d68627...</td>\n      <td>ویلا در شهر سرخرود واقع شده است.\\nاقامتگاه در ...</td>\n      <td>6521baeb7bbd0d001bdc2679</td>\n      <td>https://cdn.jabama.com/image/516x324/jabama-im...</td>\n      <td>None</td>\n      <td>[https://cdn.jabama.com/image/516x324/jabama-i...</td>\n      <td>accommodation</td>\n      <td>1.0</td>\n      <td>18500000.0</td>\n      <td>False</td>\n      <td>...</td>\n      <td>0.0</td>\n      <td>18500000.0</td>\n      <td>4.0</td>\n      <td>2.0</td>\n      <td>True</td>\n      <td>True</td>\n      <td>18500000.0</td>\n      <td>جمع پرداختی شما (30 شب - 4 نفر): ١٬٨٥٠٬٠٠٠ تومان</td>\n      <td>2024-04-10</td>\n      <td>2024-04-19</td>\n    </tr>\n    <tr>\n      <th>3</th>\n      <td>[{'name': 'water', 'category': '64aba957d68627...</td>\n      <td>ورود گروه های مجردی خانم و آقا ممنوع میباشد و ...</td>\n      <td>62fc6fd60db335001c821702</td>\n      <td>https://cdn.jabama.com/image/516x324/jabama-im...</td>\n      <td>None</td>\n      <td>[https://cdn.jabama.com/image/516x324/jabama-i...</td>\n      <td>accommodation</td>\n      <td>1.0</td>\n      <td>10000000.0</td>\n      <td>False</td>\n      <td>...</td>\n      <td>0.0</td>\n      <td>10000000.0</td>\n      <td>4.0</td>\n      <td>1.0</td>\n      <td>True</td>\n      <td>True</td>\n      <td>10000000.0</td>\n      <td>جمع پرداختی شما (30 شب - 4 نفر): ١٬٠٠٠٬٠٠٠ تومان</td>\n      <td>2024-04-10</td>\n      <td>2024-04-19</td>\n    </tr>\n    <tr>\n      <th>4</th>\n      <td>[{'name': 'water', 'category': '64aba957d68627...</td>\n      <td>ویلا دارای نگهبان مقیم می باشد که البته هیچگون...</td>\n      <td>62c4c363cc604f001b980899</td>\n      <td>https://cdn.jabama.com/image/516x324/jabama-im...</td>\n      <td>None</td>\n      <td>[https://cdn.jabama.com/image/516x324/jabama-i...</td>\n      <td>accommodation</td>\n      <td>2.0</td>\n      <td>8000000.0</td>\n      <td>False</td>\n      <td>...</td>\n      <td>0.0</td>\n      <td>8000000.0</td>\n      <td>4.0</td>\n      <td>1.0</td>\n      <td>True</td>\n      <td>True</td>\n      <td>8000000.0</td>\n      <td>جمع پرداختی شما (30 شب - 4 نفر): ٨٠٠٬٠٠٠ تومان</td>\n      <td>2024-04-10</td>\n      <td>2024-04-19</td>\n    </tr>\n    <tr>\n      <th>...</th>\n      <td>...</td>\n      <td>...</td>\n      <td>...</td>\n      <td>...</td>\n      <td>...</td>\n      <td>...</td>\n      <td>...</td>\n      <td>...</td>\n      <td>...</td>\n      <td>...</td>\n      <td>...</td>\n      <td>...</td>\n      <td>...</td>\n      <td>...</td>\n      <td>...</td>\n      <td>...</td>\n      <td>...</td>\n      <td>...</td>\n      <td>...</td>\n      <td>...</td>\n      <td>...</td>\n    </tr>\n    <tr>\n      <th>7300</th>\n      <td>[{'name': 'water', 'category': '64aba957d68627...</td>\n      <td>این اقامتگاه در کیش واقع شده است .</td>\n      <td>604b02bbdde52b001bdc26bf</td>\n      <td>https://cdn.jabama.com/image/516x324/jabama-im...</td>\n      <td>None</td>\n      <td>[https://cdn.jabama.com/image/516x324/jabama-i...</td>\n      <td>accommodation</td>\n      <td>3.0</td>\n      <td>15000000.0</td>\n      <td>False</td>\n      <td>...</td>\n      <td>0.0</td>\n      <td>15000000.0</td>\n      <td>2.0</td>\n      <td>0.0</td>\n      <td>False</td>\n      <td>True</td>\n      <td>15000000.0</td>\n      <td>جمع پرداختی شما (30 شب - 2 نفر): ١٬٥٠٠٬٠٠٠ تومان</td>\n      <td></td>\n      <td></td>\n    </tr>\n    <tr>\n      <th>7301</th>\n      <td>[{'name': 'water', 'category': '64aba957d68627...</td>\n      <td>اقامتگاه در محیطی اعیان نشین کرج و آرام آپارتم...</td>\n      <td>62baed611df868001cd4c15e</td>\n      <td>https://cdn.jabama.com/image/516x324/jabama-im...</td>\n      <td>None</td>\n      <td>[https://cdn.jabama.com/image/516x324/jabama-i...</td>\n      <td>accommodation</td>\n      <td>1.0</td>\n      <td>13800000.0</td>\n      <td>False</td>\n      <td>...</td>\n      <td>0.0</td>\n      <td>13800000.0</td>\n      <td>4.0</td>\n      <td>5.0</td>\n      <td>False</td>\n      <td>True</td>\n      <td>13800000.0</td>\n      <td>جمع پرداختی شما (30 شب - 4 نفر): ١٬٣٨٠٬٠٠٠ تومان</td>\n      <td></td>\n      <td></td>\n    </tr>\n    <tr>\n      <th>7302</th>\n      <td>[{'name': 'water', 'category': '64aba957d68627...</td>\n      <td>آپارتمان در شهر کله بست (بابلسر) واقع شده است....</td>\n      <td>64fa1d4cd66f88001c524a3d</td>\n      <td>https://cdn.jabama.com/image/516x324/jabama-im...</td>\n      <td>None</td>\n      <td>[https://cdn.jabama.com/image/516x324/jabama-i...</td>\n      <td>accommodation</td>\n      <td>1.0</td>\n      <td>28000000.0</td>\n      <td>False</td>\n      <td>...</td>\n      <td>20.0</td>\n      <td>28000000.0</td>\n      <td>5.0</td>\n      <td>3.0</td>\n      <td>False</td>\n      <td>True</td>\n      <td>28000000.0</td>\n      <td>جمع پرداختی شما (30 شب - 5 نفر): ٢٬٨٠٠٬٠٠٠ تومان</td>\n      <td></td>\n      <td></td>\n    </tr>\n    <tr>\n      <th>7303</th>\n      <td>[{'name': 'water', 'category': '64aba957d68627...</td>\n      <td>آپارتمان در شهر شاهدیه واقع شده است.\\nاقامتگاه...</td>\n      <td>65966812a12e18001bfde290</td>\n      <td>https://cdn.jabama.com/image/516x324/jabama-im...</td>\n      <td>None</td>\n      <td>[https://cdn.jabama.com/image/516x324/jabama-i...</td>\n      <td>accommodation</td>\n      <td>1.0</td>\n      <td>7000000.0</td>\n      <td>False</td>\n      <td>...</td>\n      <td>0.0</td>\n      <td>7000000.0</td>\n      <td>4.0</td>\n      <td>5.0</td>\n      <td>False</td>\n      <td>True</td>\n      <td>7000000.0</td>\n      <td>جمع پرداختی شما (30 شب - 4 نفر): ٧٠٠٬٠٠٠ تومان</td>\n      <td></td>\n      <td></td>\n    </tr>\n    <tr>\n      <th>7304</th>\n      <td>[{'name': 'water', 'category': '64aba957d68627...</td>\n      <td>آپارتمان در شهر ماهشهر واقع شده است.\\nاقامتگاه...</td>\n      <td>6534e7ec5cc5f0001b0735a2</td>\n      <td>https://cdn.jabama.com/image/516x324/jabama-im...</td>\n      <td>None</td>\n      <td>[https://cdn.jabama.com/image/516x324/jabama-i...</td>\n      <td>accommodation</td>\n      <td>1.0</td>\n      <td>18800000.0</td>\n      <td>False</td>\n      <td>...</td>\n      <td>0.0</td>\n      <td>18800000.0</td>\n      <td>2.0</td>\n      <td>2.0</td>\n      <td>False</td>\n      <td>True</td>\n      <td>18800000.0</td>\n      <td>جمع پرداختی شما (30 شب - 2 نفر): ١٬٨٨٠٬٠٠٠ تومان</td>\n      <td></td>\n      <td></td>\n    </tr>\n  </tbody>\n</table>\n<p>6782 rows × 68 columns</p>\n</div>"
     },
     "execution_count": 9,
     "metadata": {},
     "output_type": "execute_result"
    }
   ],
   "source": [
    "df"
   ],
   "metadata": {
    "collapsed": false,
    "ExecuteTime": {
     "end_time": "2024-04-11T20:28:33.239398Z",
     "start_time": "2024-04-11T20:28:33.121386Z"
    }
   },
   "id": "b1ff85b8714674e9",
   "execution_count": 9
  },
  {
   "cell_type": "code",
   "outputs": [],
   "source": [
    "data = df[[\n",
    "    \"id\",\n",
    "    \"name\",\n",
    "    \"type\",\n",
    "    \"location.province\",\n",
    "    \"location.city\",\n",
    "    \"location.geo.lat\",\n",
    "    \"location.geo.long\",\n",
    "    \"region\",\n",
    "    \"placeType\",\n",
    "    \"accommodationMetrics.buildingSize\",\n",
    "    \"accommodationMetrics.bedroomsCount\",\n",
    "    \"accommodationMetrics.bathroomsCount\",\n",
    "    \"accommodationMetrics.iranianToiletsCount\",\n",
    "    \"accommodationMetrics.toiletsCount\",\n",
    "    \"reservation_type\",\n",
    "    \"rate_review.count\",\n",
    "    \"rate_review.score\",\n",
    "    \"price.capacity.base\", \n",
    "    \"price.capacity.extra\",\n",
    "    \"price.mainPrice\",\n",
    "    \"price.discountPercent\",\n",
    "    \"price.discountedPrice\"\n",
    "]].copy()"
   ],
   "metadata": {
    "collapsed": false,
    "ExecuteTime": {
     "end_time": "2024-04-11T21:32:25.907508Z",
     "start_time": "2024-04-11T21:32:25.881963Z"
    }
   },
   "id": "445fdb8d119a8879",
   "execution_count": 26
  },
  {
   "cell_type": "code",
   "outputs": [],
   "source": [
    "data.rename({\n",
    "    \"location.province\": \"province\",\n",
    "    \"location.city\": \"city\",\n",
    "    \"location.geo.lat\": \"lat\",\n",
    "    \"location.geo.long\": \"long\",\n",
    "    \"accommodationMetrics.buildingSize\": \"buildingSize\",\n",
    "    \"accommodationMetrics.bedroomsCount\": \"bedrooms\",\n",
    "    \"accommodationMetrics.bathroomsCount\": \"bathrooms\",\n",
    "    \"accommodationMetrics.iranianToiletsCount\": \"iranianToilets\",\n",
    "    \"accommodationMetrics.toiletsCount\": \"toilets\",\n",
    "    \"rate_review.count\": \"reviewsCount\",\n",
    "    \"rate_review.score\": \"reviewsScore\",\n",
    "    \"price.capacity.base\": \"baseCapacity\",\n",
    "    \"price.capacity.extra\": \"extraCapacity\",\n",
    "    \"price.mainPrice\": \"mainPrice\",\n",
    "    \"price.discountPercent\": \"discount\",\n",
    "    \"price.discountedPrice\": \"finalPrice\",\n",
    "}, axis=1, inplace=True)"
   ],
   "metadata": {
    "collapsed": false,
    "ExecuteTime": {
     "end_time": "2024-04-11T21:32:26.957568Z",
     "start_time": "2024-04-11T21:32:26.693912Z"
    }
   },
   "id": "5041eb50c772d65e",
   "execution_count": 27
  },
  {
   "cell_type": "code",
   "outputs": [
    {
     "data": {
      "text/plain": "                            id                                           name   \n0     654260093e4468001bc3f47e                   رزرو ویلا یک خوابه گلستان 13  \\\n1     63d9139f1c5605001bd51797  اجاره ویلا دوخوابه استخردار آبگرم  رضا نیکزاد   \n2     6521baeb7bbd0d001bdc2679      رزرو ویلا دوخوابه استخردار آبگرم محسن 2 -   \n3     62fc6fd60db335001c821702                        اجاره ویلا دوخوابه جاتو   \n4     62c4c363cc604f001b980899                 رزرو ویلا دوخوابه ساحلی فینیکس   \n...                        ...                                            ...   \n7300  604b02bbdde52b001bdc26bf                  اجاره آپارتمان یک خوابه یگانه   \n7301  62baed611df868001cd4c15e               اجاره آپارتمان دوخوابه گوهردشت 2   \n7302  64fa1d4cd66f88001c524a3d         اجاره آپارتمان سه خوابه پنت هاوس یگانه   \n7303  65966812a12e18001bfde290                          آپارتمان دوخوابه یاسر   \n7304  6534e7ec5cc5f0001b0735a2                  اجاره آپارتمان یک خوابه دلوکس   \n\n           type  province       city        lat       long   region   \n0         villa     گیلان     آستارا  38.394592  48.866336     city  \\\n1         villa  مازندران  محمودآباد  36.606735  52.322496  coastal   \n2         villa  مازندران     سرخرود  36.670991  52.439718     city   \n3         villa  مازندران      رامسر  36.891973  50.677645     city   \n4         villa  مازندران  محمودآباد  36.638893  52.276534  coastal   \n...         ...       ...        ...        ...        ...      ...   \n7300  apartment   هرمزگان        کیش  26.543329  54.008990     city   \n7301  apartment     البرز        کرج  35.858066  50.983472     city   \n7302  apartment  مازندران    کله بست  36.645914  52.626411   rustic   \n7303  apartment       یزد     شاهدیه  31.935453  54.295696     city   \n7304  apartment   خوزستان     ماهشهر  30.576473  49.195225     city   \n\n         placeType  buildingSize  ...  iranianToilets  toilets   \n0     personalRoom          55.0  ...             1.0      0.0  \\\n1     personalRoom         200.0  ...             2.0      1.0   \n2     personalRoom         180.0  ...             1.0      2.0   \n3     personalRoom          80.0  ...             1.0      1.0   \n4     personalRoom         280.0  ...             0.0      2.0   \n...            ...           ...  ...             ...      ...   \n7300  personalRoom          65.0  ...             2.0      1.0   \n7301  personalRoom          88.0  ...             1.0      0.0   \n7302  personalRoom         360.0  ...             1.0      1.0   \n7303  personalRoom         130.0  ...             1.0      1.0   \n7304  personalRoom          90.0  ...             1.0      0.0   \n\n      reservation_type  reviewsCount reviewsScore  baseCapacity   \n0              instant          17.0          4.5           2.0  \\\n1              instant          43.0          4.5           4.0   \n2           preApprove          46.0          4.3           4.0   \n3              instant          50.0          4.6           4.0   \n4              instant          59.0          4.3           4.0   \n...                ...           ...          ...           ...   \n7300        preApprove          22.0          4.0           2.0   \n7301           instant          22.0          4.0           4.0   \n7302        preApprove           0.0          0.0           5.0   \n7303           instant           0.0          0.0           4.0   \n7304        preApprove           0.0          0.0           2.0   \n\n      extraCapacity   mainPrice  discount  finalPrice  \n0               2.0   6000000.0       0.0   6000000.0  \n1               6.0  20000000.0       0.0  20000000.0  \n2               2.0  18500000.0       0.0  18500000.0  \n3               1.0  10000000.0       0.0  10000000.0  \n4               1.0   8000000.0       0.0   8000000.0  \n...             ...         ...       ...         ...  \n7300            0.0  15000000.0       0.0  15000000.0  \n7301            5.0  13800000.0       0.0  13800000.0  \n7302            3.0  35000000.0      20.0  28000000.0  \n7303            5.0   7000000.0       0.0   7000000.0  \n7304            2.0  18800000.0       0.0  18800000.0  \n\n[6782 rows x 22 columns]",
      "text/html": "<div>\n<style scoped>\n    .dataframe tbody tr th:only-of-type {\n        vertical-align: middle;\n    }\n\n    .dataframe tbody tr th {\n        vertical-align: top;\n    }\n\n    .dataframe thead th {\n        text-align: right;\n    }\n</style>\n<table border=\"1\" class=\"dataframe\">\n  <thead>\n    <tr style=\"text-align: right;\">\n      <th></th>\n      <th>id</th>\n      <th>name</th>\n      <th>type</th>\n      <th>province</th>\n      <th>city</th>\n      <th>lat</th>\n      <th>long</th>\n      <th>region</th>\n      <th>placeType</th>\n      <th>buildingSize</th>\n      <th>...</th>\n      <th>iranianToilets</th>\n      <th>toilets</th>\n      <th>reservation_type</th>\n      <th>reviewsCount</th>\n      <th>reviewsScore</th>\n      <th>baseCapacity</th>\n      <th>extraCapacity</th>\n      <th>mainPrice</th>\n      <th>discount</th>\n      <th>finalPrice</th>\n    </tr>\n  </thead>\n  <tbody>\n    <tr>\n      <th>0</th>\n      <td>654260093e4468001bc3f47e</td>\n      <td>رزرو ویلا یک خوابه گلستان 13</td>\n      <td>villa</td>\n      <td>گیلان</td>\n      <td>آستارا</td>\n      <td>38.394592</td>\n      <td>48.866336</td>\n      <td>city</td>\n      <td>personalRoom</td>\n      <td>55.0</td>\n      <td>...</td>\n      <td>1.0</td>\n      <td>0.0</td>\n      <td>instant</td>\n      <td>17.0</td>\n      <td>4.5</td>\n      <td>2.0</td>\n      <td>2.0</td>\n      <td>6000000.0</td>\n      <td>0.0</td>\n      <td>6000000.0</td>\n    </tr>\n    <tr>\n      <th>1</th>\n      <td>63d9139f1c5605001bd51797</td>\n      <td>اجاره ویلا دوخوابه استخردار آبگرم  رضا نیکزاد</td>\n      <td>villa</td>\n      <td>مازندران</td>\n      <td>محمودآباد</td>\n      <td>36.606735</td>\n      <td>52.322496</td>\n      <td>coastal</td>\n      <td>personalRoom</td>\n      <td>200.0</td>\n      <td>...</td>\n      <td>2.0</td>\n      <td>1.0</td>\n      <td>instant</td>\n      <td>43.0</td>\n      <td>4.5</td>\n      <td>4.0</td>\n      <td>6.0</td>\n      <td>20000000.0</td>\n      <td>0.0</td>\n      <td>20000000.0</td>\n    </tr>\n    <tr>\n      <th>2</th>\n      <td>6521baeb7bbd0d001bdc2679</td>\n      <td>رزرو ویلا دوخوابه استخردار آبگرم محسن 2 -</td>\n      <td>villa</td>\n      <td>مازندران</td>\n      <td>سرخرود</td>\n      <td>36.670991</td>\n      <td>52.439718</td>\n      <td>city</td>\n      <td>personalRoom</td>\n      <td>180.0</td>\n      <td>...</td>\n      <td>1.0</td>\n      <td>2.0</td>\n      <td>preApprove</td>\n      <td>46.0</td>\n      <td>4.3</td>\n      <td>4.0</td>\n      <td>2.0</td>\n      <td>18500000.0</td>\n      <td>0.0</td>\n      <td>18500000.0</td>\n    </tr>\n    <tr>\n      <th>3</th>\n      <td>62fc6fd60db335001c821702</td>\n      <td>اجاره ویلا دوخوابه جاتو</td>\n      <td>villa</td>\n      <td>مازندران</td>\n      <td>رامسر</td>\n      <td>36.891973</td>\n      <td>50.677645</td>\n      <td>city</td>\n      <td>personalRoom</td>\n      <td>80.0</td>\n      <td>...</td>\n      <td>1.0</td>\n      <td>1.0</td>\n      <td>instant</td>\n      <td>50.0</td>\n      <td>4.6</td>\n      <td>4.0</td>\n      <td>1.0</td>\n      <td>10000000.0</td>\n      <td>0.0</td>\n      <td>10000000.0</td>\n    </tr>\n    <tr>\n      <th>4</th>\n      <td>62c4c363cc604f001b980899</td>\n      <td>رزرو ویلا دوخوابه ساحلی فینیکس</td>\n      <td>villa</td>\n      <td>مازندران</td>\n      <td>محمودآباد</td>\n      <td>36.638893</td>\n      <td>52.276534</td>\n      <td>coastal</td>\n      <td>personalRoom</td>\n      <td>280.0</td>\n      <td>...</td>\n      <td>0.0</td>\n      <td>2.0</td>\n      <td>instant</td>\n      <td>59.0</td>\n      <td>4.3</td>\n      <td>4.0</td>\n      <td>1.0</td>\n      <td>8000000.0</td>\n      <td>0.0</td>\n      <td>8000000.0</td>\n    </tr>\n    <tr>\n      <th>...</th>\n      <td>...</td>\n      <td>...</td>\n      <td>...</td>\n      <td>...</td>\n      <td>...</td>\n      <td>...</td>\n      <td>...</td>\n      <td>...</td>\n      <td>...</td>\n      <td>...</td>\n      <td>...</td>\n      <td>...</td>\n      <td>...</td>\n      <td>...</td>\n      <td>...</td>\n      <td>...</td>\n      <td>...</td>\n      <td>...</td>\n      <td>...</td>\n      <td>...</td>\n      <td>...</td>\n    </tr>\n    <tr>\n      <th>7300</th>\n      <td>604b02bbdde52b001bdc26bf</td>\n      <td>اجاره آپارتمان یک خوابه یگانه</td>\n      <td>apartment</td>\n      <td>هرمزگان</td>\n      <td>کیش</td>\n      <td>26.543329</td>\n      <td>54.008990</td>\n      <td>city</td>\n      <td>personalRoom</td>\n      <td>65.0</td>\n      <td>...</td>\n      <td>2.0</td>\n      <td>1.0</td>\n      <td>preApprove</td>\n      <td>22.0</td>\n      <td>4.0</td>\n      <td>2.0</td>\n      <td>0.0</td>\n      <td>15000000.0</td>\n      <td>0.0</td>\n      <td>15000000.0</td>\n    </tr>\n    <tr>\n      <th>7301</th>\n      <td>62baed611df868001cd4c15e</td>\n      <td>اجاره آپارتمان دوخوابه گوهردشت 2</td>\n      <td>apartment</td>\n      <td>البرز</td>\n      <td>کرج</td>\n      <td>35.858066</td>\n      <td>50.983472</td>\n      <td>city</td>\n      <td>personalRoom</td>\n      <td>88.0</td>\n      <td>...</td>\n      <td>1.0</td>\n      <td>0.0</td>\n      <td>instant</td>\n      <td>22.0</td>\n      <td>4.0</td>\n      <td>4.0</td>\n      <td>5.0</td>\n      <td>13800000.0</td>\n      <td>0.0</td>\n      <td>13800000.0</td>\n    </tr>\n    <tr>\n      <th>7302</th>\n      <td>64fa1d4cd66f88001c524a3d</td>\n      <td>اجاره آپارتمان سه خوابه پنت هاوس یگانه</td>\n      <td>apartment</td>\n      <td>مازندران</td>\n      <td>کله بست</td>\n      <td>36.645914</td>\n      <td>52.626411</td>\n      <td>rustic</td>\n      <td>personalRoom</td>\n      <td>360.0</td>\n      <td>...</td>\n      <td>1.0</td>\n      <td>1.0</td>\n      <td>preApprove</td>\n      <td>0.0</td>\n      <td>0.0</td>\n      <td>5.0</td>\n      <td>3.0</td>\n      <td>35000000.0</td>\n      <td>20.0</td>\n      <td>28000000.0</td>\n    </tr>\n    <tr>\n      <th>7303</th>\n      <td>65966812a12e18001bfde290</td>\n      <td>آپارتمان دوخوابه یاسر</td>\n      <td>apartment</td>\n      <td>یزد</td>\n      <td>شاهدیه</td>\n      <td>31.935453</td>\n      <td>54.295696</td>\n      <td>city</td>\n      <td>personalRoom</td>\n      <td>130.0</td>\n      <td>...</td>\n      <td>1.0</td>\n      <td>1.0</td>\n      <td>instant</td>\n      <td>0.0</td>\n      <td>0.0</td>\n      <td>4.0</td>\n      <td>5.0</td>\n      <td>7000000.0</td>\n      <td>0.0</td>\n      <td>7000000.0</td>\n    </tr>\n    <tr>\n      <th>7304</th>\n      <td>6534e7ec5cc5f0001b0735a2</td>\n      <td>اجاره آپارتمان یک خوابه دلوکس</td>\n      <td>apartment</td>\n      <td>خوزستان</td>\n      <td>ماهشهر</td>\n      <td>30.576473</td>\n      <td>49.195225</td>\n      <td>city</td>\n      <td>personalRoom</td>\n      <td>90.0</td>\n      <td>...</td>\n      <td>1.0</td>\n      <td>0.0</td>\n      <td>preApprove</td>\n      <td>0.0</td>\n      <td>0.0</td>\n      <td>2.0</td>\n      <td>2.0</td>\n      <td>18800000.0</td>\n      <td>0.0</td>\n      <td>18800000.0</td>\n    </tr>\n  </tbody>\n</table>\n<p>6782 rows × 22 columns</p>\n</div>"
     },
     "execution_count": 28,
     "metadata": {},
     "output_type": "execute_result"
    }
   ],
   "source": [
    "data"
   ],
   "metadata": {
    "collapsed": false,
    "ExecuteTime": {
     "end_time": "2024-04-11T21:32:29.123875Z",
     "start_time": "2024-04-11T21:32:29.089058Z"
    }
   },
   "id": "42815dd265684b98",
   "execution_count": 28
  },
  {
   "cell_type": "code",
   "outputs": [],
   "source": [
    "data.to_csv(\"jabamaResidences.csv\", index=False, encoding=\"utf-8-sig\")"
   ],
   "metadata": {
    "collapsed": false,
    "ExecuteTime": {
     "end_time": "2024-04-11T21:33:49.353658Z",
     "start_time": "2024-04-11T21:33:49.259465Z"
    }
   },
   "id": "d4d9a142050d3e6f",
   "execution_count": 30
  }
 ],
 "metadata": {
  "kernelspec": {
   "display_name": "Python 3 (ipykernel)",
   "language": "python",
   "name": "python3"
  },
  "language_info": {
   "codemirror_mode": {
    "name": "ipython",
    "version": 3
   },
   "file_extension": ".py",
   "mimetype": "text/x-python",
   "name": "python",
   "nbconvert_exporter": "python",
   "pygments_lexer": "ipython3",
   "version": "3.10.7"
  }
 },
 "nbformat": 4,
 "nbformat_minor": 5
}
