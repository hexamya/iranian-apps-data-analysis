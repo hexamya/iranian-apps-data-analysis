{
 "cells": [
  {
   "cell_type": "code",
   "execution_count": 11,
   "id": "initial_id",
   "metadata": {
    "collapsed": true,
    "ExecuteTime": {
     "end_time": "2024-04-25T21:12:55.373207Z",
     "start_time": "2024-04-25T21:12:55.366322Z"
    }
   },
   "outputs": [],
   "source": [
    "from pymongo import MongoClient\n",
    "\n",
    "client = MongoClient('localhost', 27017)\n",
    "db = client.iranian_ecommerce\n",
    "alibaba_train_tickets_collection = db.alibaba_train_tickets\n",
    "alibaba_train_tickets = alibaba_train_tickets_collection.find()"
   ]
  },
  {
   "cell_type": "code",
   "outputs": [
    {
     "data": {
      "text/plain": "                           _id   proposalId  from   to  rationCode  \\\n0     662a9b50027301d678560ccf  11669979346     1  191          56   \n1     662a9b50027301d678560cd0  11669979347     1  191           2   \n2     662a9b50027301d678560cd1  11669979358     1  191           2   \n3     662a9b50027301d678560cd2  11669979366     1  191           2   \n4     662a9b50027301d678560cd3  11669979348     1  191           2   \n...                        ...          ...   ...  ...         ...   \n1131  662a9d94a3f7e7be9422b276  11670047976   219   37           2   \n1132  662a9d94a3f7e7be9422b277  11670047979   219   37          56   \n1133  662a9d95a3f7e7be9422b278  11670048026   219   37          56   \n1134  662a9d95a3f7e7be9422b279  11670048027   219   37           2   \n1135  662a9d95a3f7e7be9422b27a  11670048025   219   37           2   \n\n      trainNumber               wagonName  wagonType         moveDatetime  \\\n0             318     4 ستاره اتوبوسي صبا       1093  2024-04-27T00:00:00   \n1             318     4 ستاره اتوبوسي صبا       1093  2024-04-27T00:00:00   \n2             366    5 ستاره اكونومي پلاس       5258  2024-04-27T00:00:00   \n3             584   5 ستاره اکونومي پلاس        5273  2024-04-27T00:00:00   \n4             484   3 ستاره 6 تخته پارسي        5135  2024-04-27T00:00:00   \n...           ...                     ...        ...                  ...   \n1131          532  3ستاره 4تخته خليج فارس       5084  2024-04-27T00:00:00   \n1132          822    4 ستاره 4 تخته غزال        1315  2024-04-27T00:00:00   \n1133          820     3 ستاره 6 تخته كوير       4820  2024-04-28T00:00:00   \n1134          822        4ستاره4تخته غزال       1912  2024-04-28T00:00:00   \n1135          820     3 ستاره 6 تخته كوير       4820  2024-04-28T00:00:00   \n\n        departureDateTime  ...  orginCode  originCode  destinationCode  \\\n0     2024-04-27T07:05:00  ...        THR         THR              MHD   \n1     2024-04-27T07:05:00  ...        THR         THR              MHD   \n2     2024-04-27T20:55:00  ...        THR         THR              MHD   \n3     2024-04-27T23:50:00  ...        THR         THR              MHD   \n4     2024-04-27T13:45:00  ...        THR         THR              MHD   \n...                   ...  ...        ...         ...              ...   \n1131  2024-04-27T19:40:00  ...        AZD         AZD              BND   \n1132  2024-04-27T22:24:00  ...        AZD         AZD              BND   \n1133  2024-04-28T20:43:00  ...        AZD         AZD              BND   \n1134  2024-04-28T22:24:00  ...        AZD         AZD              BND   \n1135  2024-04-28T20:43:00  ...        AZD         AZD              BND   \n\n          arrivalDateTime  availableType  services.airCondition  \\\n0     2024-04-27T19:15:00        Regular                   True   \n1     2024-04-27T19:15:00        Regular                   True   \n2     2024-04-28T07:45:00        Regular                   True   \n3     2024-04-28T10:55:00        Regular                   True   \n4     2024-04-28T00:45:00        Regular                   True   \n...                   ...            ...                    ...   \n1131  2024-04-28T07:40:00        Regular                   True   \n1132  2024-04-28T10:40:00        Regular                   True   \n1133  2024-04-29T08:45:00        Regular                   True   \n1134  2024-04-29T10:40:00        Regular                   True   \n1135  2024-04-29T08:45:00        Regular                   True   \n\n      services.media discountBadge.content discountBadge.foregroundColor  \\\n0               True                   NaN                           NaN   \n1               True                   NaN                           NaN   \n2               True                   NaN                           NaN   \n3               True                   NaN                           NaN   \n4              False                   NaN                           NaN   \n...              ...                   ...                           ...   \n1131            True                   NaN                           NaN   \n1132            True                   NaN                           NaN   \n1133           False                   NaN                           NaN   \n1134            True                   NaN                           NaN   \n1135           False                   NaN                           NaN   \n\n      discountBadge.backgroundColor  \n0                               NaN  \n1                               NaN  \n2                               NaN  \n3                               NaN  \n4                               NaN  \n...                             ...  \n1131                            NaN  \n1132                            NaN  \n1133                            NaN  \n1134                            NaN  \n1135                            NaN  \n\n[1136 rows x 57 columns]",
      "text/html": "<div>\n<style scoped>\n    .dataframe tbody tr th:only-of-type {\n        vertical-align: middle;\n    }\n\n    .dataframe tbody tr th {\n        vertical-align: top;\n    }\n\n    .dataframe thead th {\n        text-align: right;\n    }\n</style>\n<table border=\"1\" class=\"dataframe\">\n  <thead>\n    <tr style=\"text-align: right;\">\n      <th></th>\n      <th>_id</th>\n      <th>proposalId</th>\n      <th>from</th>\n      <th>to</th>\n      <th>rationCode</th>\n      <th>trainNumber</th>\n      <th>wagonName</th>\n      <th>wagonType</th>\n      <th>moveDatetime</th>\n      <th>departureDateTime</th>\n      <th>...</th>\n      <th>orginCode</th>\n      <th>originCode</th>\n      <th>destinationCode</th>\n      <th>arrivalDateTime</th>\n      <th>availableType</th>\n      <th>services.airCondition</th>\n      <th>services.media</th>\n      <th>discountBadge.content</th>\n      <th>discountBadge.foregroundColor</th>\n      <th>discountBadge.backgroundColor</th>\n    </tr>\n  </thead>\n  <tbody>\n    <tr>\n      <th>0</th>\n      <td>662a9b50027301d678560ccf</td>\n      <td>11669979346</td>\n      <td>1</td>\n      <td>191</td>\n      <td>56</td>\n      <td>318</td>\n      <td>4 ستاره اتوبوسي صبا</td>\n      <td>1093</td>\n      <td>2024-04-27T00:00:00</td>\n      <td>2024-04-27T07:05:00</td>\n      <td>...</td>\n      <td>THR</td>\n      <td>THR</td>\n      <td>MHD</td>\n      <td>2024-04-27T19:15:00</td>\n      <td>Regular</td>\n      <td>True</td>\n      <td>True</td>\n      <td>NaN</td>\n      <td>NaN</td>\n      <td>NaN</td>\n    </tr>\n    <tr>\n      <th>1</th>\n      <td>662a9b50027301d678560cd0</td>\n      <td>11669979347</td>\n      <td>1</td>\n      <td>191</td>\n      <td>2</td>\n      <td>318</td>\n      <td>4 ستاره اتوبوسي صبا</td>\n      <td>1093</td>\n      <td>2024-04-27T00:00:00</td>\n      <td>2024-04-27T07:05:00</td>\n      <td>...</td>\n      <td>THR</td>\n      <td>THR</td>\n      <td>MHD</td>\n      <td>2024-04-27T19:15:00</td>\n      <td>Regular</td>\n      <td>True</td>\n      <td>True</td>\n      <td>NaN</td>\n      <td>NaN</td>\n      <td>NaN</td>\n    </tr>\n    <tr>\n      <th>2</th>\n      <td>662a9b50027301d678560cd1</td>\n      <td>11669979358</td>\n      <td>1</td>\n      <td>191</td>\n      <td>2</td>\n      <td>366</td>\n      <td>5 ستاره اكونومي پلاس</td>\n      <td>5258</td>\n      <td>2024-04-27T00:00:00</td>\n      <td>2024-04-27T20:55:00</td>\n      <td>...</td>\n      <td>THR</td>\n      <td>THR</td>\n      <td>MHD</td>\n      <td>2024-04-28T07:45:00</td>\n      <td>Regular</td>\n      <td>True</td>\n      <td>True</td>\n      <td>NaN</td>\n      <td>NaN</td>\n      <td>NaN</td>\n    </tr>\n    <tr>\n      <th>3</th>\n      <td>662a9b50027301d678560cd2</td>\n      <td>11669979366</td>\n      <td>1</td>\n      <td>191</td>\n      <td>2</td>\n      <td>584</td>\n      <td>5 ستاره اکونومي پلاس</td>\n      <td>5273</td>\n      <td>2024-04-27T00:00:00</td>\n      <td>2024-04-27T23:50:00</td>\n      <td>...</td>\n      <td>THR</td>\n      <td>THR</td>\n      <td>MHD</td>\n      <td>2024-04-28T10:55:00</td>\n      <td>Regular</td>\n      <td>True</td>\n      <td>True</td>\n      <td>NaN</td>\n      <td>NaN</td>\n      <td>NaN</td>\n    </tr>\n    <tr>\n      <th>4</th>\n      <td>662a9b50027301d678560cd3</td>\n      <td>11669979348</td>\n      <td>1</td>\n      <td>191</td>\n      <td>2</td>\n      <td>484</td>\n      <td>3 ستاره 6 تخته پارسي</td>\n      <td>5135</td>\n      <td>2024-04-27T00:00:00</td>\n      <td>2024-04-27T13:45:00</td>\n      <td>...</td>\n      <td>THR</td>\n      <td>THR</td>\n      <td>MHD</td>\n      <td>2024-04-28T00:45:00</td>\n      <td>Regular</td>\n      <td>True</td>\n      <td>False</td>\n      <td>NaN</td>\n      <td>NaN</td>\n      <td>NaN</td>\n    </tr>\n    <tr>\n      <th>...</th>\n      <td>...</td>\n      <td>...</td>\n      <td>...</td>\n      <td>...</td>\n      <td>...</td>\n      <td>...</td>\n      <td>...</td>\n      <td>...</td>\n      <td>...</td>\n      <td>...</td>\n      <td>...</td>\n      <td>...</td>\n      <td>...</td>\n      <td>...</td>\n      <td>...</td>\n      <td>...</td>\n      <td>...</td>\n      <td>...</td>\n      <td>...</td>\n      <td>...</td>\n      <td>...</td>\n    </tr>\n    <tr>\n      <th>1131</th>\n      <td>662a9d94a3f7e7be9422b276</td>\n      <td>11670047976</td>\n      <td>219</td>\n      <td>37</td>\n      <td>2</td>\n      <td>532</td>\n      <td>3ستاره 4تخته خليج فارس</td>\n      <td>5084</td>\n      <td>2024-04-27T00:00:00</td>\n      <td>2024-04-27T19:40:00</td>\n      <td>...</td>\n      <td>AZD</td>\n      <td>AZD</td>\n      <td>BND</td>\n      <td>2024-04-28T07:40:00</td>\n      <td>Regular</td>\n      <td>True</td>\n      <td>True</td>\n      <td>NaN</td>\n      <td>NaN</td>\n      <td>NaN</td>\n    </tr>\n    <tr>\n      <th>1132</th>\n      <td>662a9d94a3f7e7be9422b277</td>\n      <td>11670047979</td>\n      <td>219</td>\n      <td>37</td>\n      <td>56</td>\n      <td>822</td>\n      <td>4 ستاره 4 تخته غزال</td>\n      <td>1315</td>\n      <td>2024-04-27T00:00:00</td>\n      <td>2024-04-27T22:24:00</td>\n      <td>...</td>\n      <td>AZD</td>\n      <td>AZD</td>\n      <td>BND</td>\n      <td>2024-04-28T10:40:00</td>\n      <td>Regular</td>\n      <td>True</td>\n      <td>True</td>\n      <td>NaN</td>\n      <td>NaN</td>\n      <td>NaN</td>\n    </tr>\n    <tr>\n      <th>1133</th>\n      <td>662a9d95a3f7e7be9422b278</td>\n      <td>11670048026</td>\n      <td>219</td>\n      <td>37</td>\n      <td>56</td>\n      <td>820</td>\n      <td>3 ستاره 6 تخته كوير</td>\n      <td>4820</td>\n      <td>2024-04-28T00:00:00</td>\n      <td>2024-04-28T20:43:00</td>\n      <td>...</td>\n      <td>AZD</td>\n      <td>AZD</td>\n      <td>BND</td>\n      <td>2024-04-29T08:45:00</td>\n      <td>Regular</td>\n      <td>True</td>\n      <td>False</td>\n      <td>NaN</td>\n      <td>NaN</td>\n      <td>NaN</td>\n    </tr>\n    <tr>\n      <th>1134</th>\n      <td>662a9d95a3f7e7be9422b279</td>\n      <td>11670048027</td>\n      <td>219</td>\n      <td>37</td>\n      <td>2</td>\n      <td>822</td>\n      <td>4ستاره4تخته غزال</td>\n      <td>1912</td>\n      <td>2024-04-28T00:00:00</td>\n      <td>2024-04-28T22:24:00</td>\n      <td>...</td>\n      <td>AZD</td>\n      <td>AZD</td>\n      <td>BND</td>\n      <td>2024-04-29T10:40:00</td>\n      <td>Regular</td>\n      <td>True</td>\n      <td>True</td>\n      <td>NaN</td>\n      <td>NaN</td>\n      <td>NaN</td>\n    </tr>\n    <tr>\n      <th>1135</th>\n      <td>662a9d95a3f7e7be9422b27a</td>\n      <td>11670048025</td>\n      <td>219</td>\n      <td>37</td>\n      <td>2</td>\n      <td>820</td>\n      <td>3 ستاره 6 تخته كوير</td>\n      <td>4820</td>\n      <td>2024-04-28T00:00:00</td>\n      <td>2024-04-28T20:43:00</td>\n      <td>...</td>\n      <td>AZD</td>\n      <td>AZD</td>\n      <td>BND</td>\n      <td>2024-04-29T08:45:00</td>\n      <td>Regular</td>\n      <td>True</td>\n      <td>False</td>\n      <td>NaN</td>\n      <td>NaN</td>\n      <td>NaN</td>\n    </tr>\n  </tbody>\n</table>\n<p>1136 rows × 57 columns</p>\n</div>"
     },
     "execution_count": 12,
     "metadata": {},
     "output_type": "execute_result"
    }
   ],
   "source": [
    "import pandas as pd\n",
    "\n",
    "dft = pd.json_normalize(alibaba_train_tickets)\n",
    "dft.drop_duplicates(subset=['proposalId'], inplace=True)\n",
    "dft"
   ],
   "metadata": {
    "collapsed": false,
    "ExecuteTime": {
     "end_time": "2024-04-25T21:12:56.173203Z",
     "start_time": "2024-04-25T21:12:56.101293Z"
    }
   },
   "id": "b291cd6f30775e5b",
   "execution_count": 12
  },
  {
   "cell_type": "code",
   "outputs": [
    {
     "data": {
      "text/plain": "Index(['_id', 'proposalId', 'from', 'to', 'rationCode', 'trainNumber',\n       'wagonName', 'wagonType', 'moveDatetime', 'departureDateTime', 'seat',\n       'cost', 'fullPrice', 'isCompartment', 'compartmentCapacity',\n       'hasAirCondition', 'hasMedia', 'timeOfArrival', 'companyName',\n       'serviceType', 'logoSuffix', 'hasDiscount', 'isSpecialOffer',\n       'specialOfferTexts', 'isFadakSpecialOffer', 'minPassengerCount',\n       'minLimitationMessage', 'maxPassengerCount',\n       'exclusiveCompartmentMaxPassengerCount', 'maxLimitationMessage',\n       'hasFreeFood', 'nonRefundable', 'isCharter', 'wagonClass',\n       'hasFoodOffer', 'foodOfferTexts', 'axleCode', 'oldExitDatetime',\n       'oldFrom', 'oldTo', 'badges', 'discountBadge', 'sortOrder',\n       'isFamilyCoupe', 'isTransitCar', 'originName', 'destinationName',\n       'orginCode', 'originCode', 'destinationCode', 'arrivalDateTime',\n       'availableType', 'services.airCondition', 'services.media',\n       'discountBadge.content', 'discountBadge.foregroundColor',\n       'discountBadge.backgroundColor'],\n      dtype='object')"
     },
     "execution_count": 15,
     "metadata": {},
     "output_type": "execute_result"
    }
   ],
   "source": [
    "dft.columns"
   ],
   "metadata": {
    "collapsed": false,
    "ExecuteTime": {
     "end_time": "2024-04-25T21:13:34.513991Z",
     "start_time": "2024-04-25T21:13:34.507460Z"
    }
   },
   "id": "361a011bc8eb5d7c",
   "execution_count": 15
  },
  {
   "cell_type": "code",
   "outputs": [],
   "source": [
    "dft = dft[[\n",
    "    \"proposalId\",\n",
    "    \"originName\",\n",
    "    \"destinationName\",\n",
    "    \"wagonName\",\n",
    "    \"departureDateTime\",\n",
    "    \"arrivalDateTime\",\n",
    "    \"cost\",\n",
    "    \"fullPrice\",\n",
    "    \"isCompartment\",\n",
    "    \"compartmentCapacity\",\n",
    "    \"hasAirCondition\",\n",
    "    \"hasMedia\",\n",
    "    \"hasMedia\",\n",
    "    \"companyName\",\n",
    "    \"hasDiscount\",\n",
    "    \"isSpecialOffer\",\n",
    "    \"hasFreeFood\",\n",
    "    \"hasFoodOffer\",\n",
    "    \"isCharter\",\n",
    "    \"wagonClass\",\n",
    "    \"isFamilyCoupe\",\n",
    "    \"isTransitCar\",\n",
    "]]"
   ],
   "metadata": {
    "collapsed": false,
    "ExecuteTime": {
     "end_time": "2024-04-25T21:20:31.080246Z",
     "start_time": "2024-04-25T21:20:31.075006Z"
    }
   },
   "id": "e6f0b260a2afee1d",
   "execution_count": 17
  },
  {
   "cell_type": "code",
   "outputs": [],
   "source": [
    "dft.to_csv(\"alibabaTrainTickets.csv\", index=False, encoding='utf-8-sig')"
   ],
   "metadata": {
    "collapsed": false,
    "ExecuteTime": {
     "end_time": "2024-04-25T21:21:30.283404Z",
     "start_time": "2024-04-25T21:21:29.992766Z"
    }
   },
   "id": "6d1ec5626bb9b39a",
   "execution_count": 18
  },
  {
   "cell_type": "code",
   "outputs": [],
   "source": [],
   "metadata": {
    "collapsed": false
   },
   "id": "6509e025bbd13285"
  }
 ],
 "metadata": {
  "kernelspec": {
   "display_name": "Python 3",
   "language": "python",
   "name": "python3"
  },
  "language_info": {
   "codemirror_mode": {
    "name": "ipython",
    "version": 2
   },
   "file_extension": ".py",
   "mimetype": "text/x-python",
   "name": "python",
   "nbconvert_exporter": "python",
   "pygments_lexer": "ipython2",
   "version": "2.7.6"
  }
 },
 "nbformat": 4,
 "nbformat_minor": 5
}
